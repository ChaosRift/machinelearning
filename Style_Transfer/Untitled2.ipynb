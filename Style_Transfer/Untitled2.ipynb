{
 "cells": [
  {
   "cell_type": "code",
   "execution_count": 5,
   "id": "edada606-177e-466f-8b76-f267beab866c",
   "metadata": {},
   "outputs": [],
   "source": [
    "from os import listdir\n",
    "import glob"
   ]
  },
  {
   "cell_type": "code",
   "execution_count": 2,
   "id": "24e32c28-d790-4af4-ae94-f0483d66e039",
   "metadata": {},
   "outputs": [
    {
     "data": {
      "text/plain": [
       "'F:\\\\Real-time-style-transfers'"
      ]
     },
     "execution_count": 2,
     "metadata": {},
     "output_type": "execute_result"
    }
   ],
   "source": [
    "pwd"
   ]
  },
  {
   "cell_type": "code",
   "execution_count": 13,
   "id": "a8f547fb-b7f0-4373-a314-6160734d617d",
   "metadata": {},
   "outputs": [],
   "source": [
    "testFiles = glob.glob(\"test/*.jpg\")"
   ]
  },
  {
   "cell_type": "code",
   "execution_count": 16,
   "id": "e74d75e3-7c42-4866-8ba3-144bf570279a",
   "metadata": {},
   "outputs": [
    {
     "data": {
      "text/plain": [
       "'test\\\\Wash Me.JPG'"
      ]
     },
     "execution_count": 16,
     "metadata": {},
     "output_type": "execute_result"
    }
   ],
   "source": [
    "import random\n",
    "random.choice(testFiles)"
   ]
  },
  {
   "cell_type": "code",
   "execution_count": null,
   "id": "680f0006-bfca-4b9a-9ac6-15083fa1a29e",
   "metadata": {},
   "outputs": [],
   "source": []
  }
 ],
 "metadata": {
  "kernelspec": {
   "display_name": "Python 3 (ipykernel)",
   "language": "python",
   "name": "python3"
  },
  "language_info": {
   "codemirror_mode": {
    "name": "ipython",
    "version": 3
   },
   "file_extension": ".py",
   "mimetype": "text/x-python",
   "name": "python",
   "nbconvert_exporter": "python",
   "pygments_lexer": "ipython3",
   "version": "3.9.13"
  }
 },
 "nbformat": 4,
 "nbformat_minor": 5
}
