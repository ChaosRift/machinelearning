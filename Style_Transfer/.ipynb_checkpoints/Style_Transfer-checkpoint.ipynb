{
 "cells": [
  {
   "cell_type": "code",
   "execution_count": 1,
   "id": "07d2ed21-4355-4f0b-ab53-da67e304b958",
   "metadata": {},
   "outputs": [
    {
     "name": "stdout",
     "output_type": "stream",
     "text": [
      "2.9.1\n"
     ]
    }
   ],
   "source": [
    "from os import listdir\n",
    "import os\n",
    "from os.path import join\n",
    "import tensorflow as tf\n",
    "from tensorflow.keras.applications.vgg19 import preprocess_input\n",
    "from tensorflow.keras.models import Model\n",
    "import matplotlib.pyplot as plt\n",
    "import numpy as np\n",
    "np.random.seed(7)\n",
    "\n",
    "%matplotlib inline\n",
    "\n",
    "print(tf.__version__)"
   ]
  },
  {
   "cell_type": "code",
   "execution_count": 3,
   "id": "acf2a765-655e-4b84-8213-f16321537b37",
   "metadata": {},
   "outputs": [],
   "source": [
    "styleDir = \"F:/Real-time-style-transfers/styles\"\n",
    "imageDir = \"F:/Real-time-style-transfers/nft\"\n",
    "trainDir = \"F:/Real-time-style-transfers/data/train_upscaled\"\n",
    "evalDir =  \"F:/Real-time-style-transfers/eval\""
   ]
  },
  {
   "cell_type": "code",
   "execution_count": null,
   "id": "0947008d-fce8-46c7-83bd-9d28bad37538",
   "metadata": {},
   "outputs": [],
   "source": [
    "# Load the content and style images\n",
    "content = plt.imread('\"F:/Real-time-style-transfers/eval/IMG_9047.JPG\"')\n",
    "style = plt.imread('\"F:/Real-time-style-transfers/styles/the_scream.jpg\"')\n",
    "\n",
    "# Display the images\n",
    "fig, (ax1, ax2) = plt.subplots(1, 2, figsize=(20, 10))\n",
    "\n",
    "# Content and style images side-by-side\n",
    "ax1.imshow(content)\n",
    "ax1.set_title('Content Image')\n",
    "ax2.imshow(style)\n",
    "ax2.set_title('Style Image')\n",
    "plt.show()"
   ]
  },
  {
   "cell_type": "code",
   "execution_count": null,
   "id": "598e5c7b-cdc2-4ed0-bedf-70985823bed0",
   "metadata": {},
   "outputs": [],
   "source": []
  },
  {
   "cell_type": "code",
   "execution_count": null,
   "id": "5b90556f-d643-47e9-9aee-b31e6809c78c",
   "metadata": {},
   "outputs": [],
   "source": []
  },
  {
   "cell_type": "code",
   "execution_count": null,
   "id": "70c5c455-fe27-4b14-b180-528149d4a2f1",
   "metadata": {},
   "outputs": [],
   "source": []
  },
  {
   "cell_type": "code",
   "execution_count": null,
   "id": "6ccfd0b7-950b-4655-ad25-7f8943ff3fbc",
   "metadata": {},
   "outputs": [],
   "source": []
  },
  {
   "cell_type": "code",
   "execution_count": 5,
   "id": "815eaf39-39a5-4c3d-83e0-8e7b7320ff1d",
   "metadata": {},
   "outputs": [],
   "source": [
    "listOfFiles = listdir(styleDir)"
   ]
  },
  {
   "cell_type": "code",
   "execution_count": null,
   "id": "5bf48907-6a54-4741-ae29-06739b33478b",
   "metadata": {},
   "outputs": [],
   "source": [
    "for file in listOfFiles:\n",
    "    sourceFile = join(directoryName, file)\n",
    "    mainFileNamePos = file.find(\".\")\n",
    "    filename = file[:mainFileNamePos] + \"_matte\" + file[mainFileNamePos:]\n",
    "    filename = filename.replace(\" \", \"_\")\n",
    "    fulleMattePath = join(directoryName, filename)\n",
    "    #print(fulleMattePath)\n",
    "    fm.createMatte(sourceFile, fulleMattePath, matteHeight)"
   ]
  },
  {
   "cell_type": "code",
   "execution_count": null,
   "id": "16e50970-b229-40c3-8443-44bc5544189c",
   "metadata": {},
   "outputs": [],
   "source": []
  }
 ],
 "metadata": {
  "kernelspec": {
   "display_name": "Python 3 (ipykernel)",
   "language": "python",
   "name": "python3"
  },
  "language_info": {
   "codemirror_mode": {
    "name": "ipython",
    "version": 3
   },
   "file_extension": ".py",
   "mimetype": "text/x-python",
   "name": "python",
   "nbconvert_exporter": "python",
   "pygments_lexer": "ipython3",
   "version": "3.9.12"
  }
 },
 "nbformat": 4,
 "nbformat_minor": 5
}
