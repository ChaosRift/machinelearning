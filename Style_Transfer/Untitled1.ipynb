{
 "cells": [
  {
   "cell_type": "code",
   "execution_count": 1,
   "id": "4b5bd7b7-676a-4941-b1c6-2be1d008ea0c",
   "metadata": {},
   "outputs": [],
   "source": [
    "filename = \"this.that.blah.jpg\""
   ]
  },
  {
   "cell_type": "code",
   "execution_count": 6,
   "id": "fca911f3-ade8-4e18-a6f5-d48c01ff4d51",
   "metadata": {},
   "outputs": [
    {
     "data": {
      "text/plain": [
       "'this_that_blah.mp4'"
      ]
     },
     "execution_count": 6,
     "metadata": {},
     "output_type": "execute_result"
    }
   ],
   "source": [
    "movieName = filename.split(\".\")[:-1]\n",
    "\n",
    "movieName"
   ]
  },
  {
   "cell_type": "code",
   "execution_count": null,
   "id": "d07549b2-dad6-4a20-b68e-5ea0d65bc79d",
   "metadata": {},
   "outputs": [],
   "source": []
  }
 ],
 "metadata": {
  "kernelspec": {
   "display_name": "Python 3 (ipykernel)",
   "language": "python",
   "name": "python3"
  },
  "language_info": {
   "codemirror_mode": {
    "name": "ipython",
    "version": 3
   },
   "file_extension": ".py",
   "mimetype": "text/x-python",
   "name": "python",
   "nbconvert_exporter": "python",
   "pygments_lexer": "ipython3",
   "version": "3.9.13"
  }
 },
 "nbformat": 4,
 "nbformat_minor": 5
}
