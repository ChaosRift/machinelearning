{
 "cells": [
  {
   "cell_type": "markdown",
   "metadata": {},
   "source": [
    "# Current work in progress\n",
    "    This is a standard no frills GAN with the exception the noise data is the shape of the current image batch. So you can use the standard gausian noise or actual images to train the GAN. \n",
    "    Current \"experiement is training the GAN on one set of data and the discriminator on real world photos. I want to see what will happen essentially. \n",
    "    \n",
    "### Data Science and Machine Learning is 80% experiementation and \"seeing what happens\". \n",
    "    Sure I could follow exactly what everyone else does but that doesn't benefit me or learning. "
   ]
  },
  {
   "cell_type": "markdown",
   "metadata": {
    "id": "YVnF24NFcuQ6"
   },
   "source": [
    "## **Mount Google Drive to store files & data**"
   ]
  },
  {
   "cell_type": "code",
   "execution_count": 1,
   "metadata": {
    "id": "3SFGfqdZphji"
   },
   "outputs": [
    {
     "name": "stdout",
     "output_type": "stream",
     "text": [
      "Tue Oct  4 18:15:40 2022       \n",
      "+-----------------------------------------------------------------------------+\n",
      "| NVIDIA-SMI 516.94       Driver Version: 516.94       CUDA Version: 11.7     |\n",
      "|-------------------------------+----------------------+----------------------+\n",
      "| GPU  Name            TCC/WDDM | Bus-Id        Disp.A | Volatile Uncorr. ECC |\n",
      "| Fan  Temp  Perf  Pwr:Usage/Cap|         Memory-Usage | GPU-Util  Compute M. |\n",
      "|                               |                      |               MIG M. |\n",
      "|===============================+======================+======================|\n",
      "|   0  NVIDIA GeForce ... WDDM  | 00000000:01:00.0  On |                  N/A |\n",
      "| 55%   57C    P8    42W / 350W |   1498MiB / 12288MiB |      3%      Default |\n",
      "|                               |                      |                  N/A |\n",
      "+-------------------------------+----------------------+----------------------+\n",
      "                                                                               \n",
      "+-----------------------------------------------------------------------------+\n",
      "| Processes:                                                                  |\n",
      "|  GPU   GI   CI        PID   Type   Process name                  GPU Memory |\n",
      "|        ID   ID                                                   Usage      |\n",
      "|=============================================================================|\n",
      "|    0   N/A  N/A      3444    C+G   ...kyb3d8bbwe\\Calculator.exe    N/A      |\n",
      "|    0   N/A  N/A      7792    C+G   ...\\app-1.0.9006\\Discord.exe    N/A      |\n",
      "|    0   N/A  N/A     10720    C+G   ...perience\\NVIDIA Share.exe    N/A      |\n",
      "|    0   N/A  N/A     12448    C+G   C:\\Windows\\explorer.exe         N/A      |\n",
      "|    0   N/A  N/A     14032    C+G   ...artMenuExperienceHost.exe    N/A      |\n",
      "|    0   N/A  N/A     19632    C+G   ...2txyewy\\TextInputHost.exe    N/A      |\n",
      "|    0   N/A  N/A     20496    C+G   ...e\\PhoneExperienceHost.exe    N/A      |\n",
      "|    0   N/A  N/A     20968    C+G   ...tech\\X56\\X56_Profiler.exe    N/A      |\n",
      "|    0   N/A  N/A     21576    C+G   ... Host\\Razer Synapse 3.exe    N/A      |\n",
      "|    0   N/A  N/A     21688    C+G   ...in7x64\\steamwebhelper.exe    N/A      |\n",
      "|    0   N/A  N/A     23192    C+G   ...ge\\Application\\msedge.exe    N/A      |\n",
      "|    0   N/A  N/A     23992    C+G   ...arp.BrowserSubprocess.exe    N/A      |\n",
      "|    0   N/A  N/A     28104    C+G   ...zpdnekdrzrea0\\Spotify.exe    N/A      |\n",
      "|    0   N/A  N/A     28180    C+G   ...pp\\AutodeskDesktopApp.exe    N/A      |\n",
      "|    0   N/A  N/A     29076    C+G   ...bBrowser\\AcWebBrowser.exe    N/A      |\n",
      "|    0   N/A  N/A     32200    C+G   ...343.53\\msedgewebview2.exe    N/A      |\n",
      "|    0   N/A  N/A     34720    C+G   ...me\\Application\\chrome.exe    N/A      |\n",
      "|    0   N/A  N/A     37072    C+G   ...y\\ShellExperienceHost.exe    N/A      |\n",
      "|    0   N/A  N/A     46512    C+G   ...lPanel\\SystemSettings.exe    N/A      |\n",
      "|    0   N/A  N/A     48396    C+G   ...5n1h2txyewy\\SearchApp.exe    N/A      |\n",
      "|    0   N/A  N/A     48456    C+G   ...5n1h2txyewy\\SearchApp.exe    N/A      |\n",
      "+-----------------------------------------------------------------------------+\n"
     ]
    }
   ],
   "source": [
    "!nvidia-smi"
   ]
  },
  {
   "cell_type": "code",
   "execution_count": 2,
   "metadata": {
    "id": "G0W_asugimDV"
   },
   "outputs": [],
   "source": [
    "# !pip install tensorflow_addons "
   ]
  },
  {
   "cell_type": "markdown",
   "metadata": {
    "id": "NJp-D51g0IDd"
   },
   "source": [
    "## **1) Importing Python Packages for GAN**\n"
   ]
  },
  {
   "cell_type": "code",
   "execution_count": 3,
   "metadata": {
    "id": "yXm8CNeB3MO4"
   },
   "outputs": [
    {
     "name": "stderr",
     "output_type": "stream",
     "text": [
      "D:\\Anaconda3\\envs\\ai\\lib\\site-packages\\scipy\\__init__.py:146: UserWarning: A NumPy version >=1.16.5 and <1.23.0 is required for this version of SciPy (detected version 1.23.1\n",
      "  warnings.warn(f\"A NumPy version >={np_minversion} and <{np_maxversion}\"\n"
     ]
    }
   ],
   "source": [
    "import sys\n",
    "import os\n",
    "from os.path import join, exists\n",
    "import matplotlib.pyplot as plt\n",
    "import tensorflow as tf\n",
    "from PIL import Image\n",
    "import numpy as np\n",
    "import random\n",
    "import time\n",
    "\n",
    "#from matplotlib import cm\n",
    "#import cv2"
   ]
  },
  {
   "cell_type": "code",
   "execution_count": 4,
   "metadata": {
    "id": "1k5mFBuzzl2a"
   },
   "outputs": [],
   "source": [
    "# from keras.datasets import cifar10, mnist\n",
    "import tensorflow as tf\n",
    "from tensorflow import keras\n",
    "from tensorflow.keras import layers\n",
    "import tensorflow_addons as tfa\n",
    "from tensorflow.keras.models import Sequential\n",
    "from tensorflow.keras.layers import Reshape\n",
    "from tensorflow.keras.layers import Flatten, GlobalAveragePooling1D \n",
    "from tensorflow.keras.layers import Conv2D, Dense, Conv2DTranspose, BatchNormalization\n",
    "from tensorflow.keras.layers import Dropout\n",
    "from tensorflow.keras.layers import LeakyReLU\n",
    "from tensorflow.keras.layers import ReLU\n",
    "from tensorflow.keras.layers import Input\n",
    "from tensorflow.keras.optimizers import Adam\n",
    "# look this shit up.\n",
    "from sklearn.preprocessing import MinMaxScaler, StandardScaler\n",
    "scaler = StandardScaler()"
   ]
  },
  {
   "cell_type": "markdown",
   "metadata": {},
   "source": [
    "# Config Class\n",
    "*Because it's cleaner avoids messy globals and scope ambiguity. "
   ]
  },
  {
   "cell_type": "code",
   "execution_count": 6,
   "metadata": {},
   "outputs": [],
   "source": [
    "class Config:\n",
    "    gan_name = \"AnimeHorrorGan\"\n",
    "    runningColab = False\n",
    "    windows_base_path = \"F:\\\\machine_learning\"\n",
    "    colab_base_path = \"/content/drive/MyDrive/TensorFlow\"\n",
    "    \n",
    "    # Migrating to training generator on horror\n",
    "    # and discriminator on real images. Seeing if it will transpose or fail. \n",
    "    dataset = \"current_dataset\"\n",
    "    save_loc = \"generated_images\"\n",
    "    test_images_path = \"F:\\machine_learning\\datasets\\cats_dataset\"\n",
    "    test_images = []\n",
    "\n",
    "    # Final location defaults.\n",
    "    # gets overwritten depending on Colab or Local. \n",
    "    model_save_path = f\"{windows_base_path}\\\\my_models\"\n",
    "    dataset_path = join(windows_base_path, \"datasets\", dataset) # iput\n",
    "\n",
    "    \n",
    "    # I should save generated images in a different dir. This was due to ADHD. \n",
    "    generated_path = join(windows_base_path, \"datasets\", save_loc) # output\n",
    "    \n",
    "\n",
    "    batch_size = 5\n",
    "\n",
    "    img_width = 512\n",
    "    img_height = 512\n",
    "    channels = 3\n",
    "    img_shape = (img_width, img_height, channels)\n",
    "\n",
    "    latent_dim = 100 # Not really used anymore.\n",
    "    seed = 42\n",
    "    \n",
    "    files = []\n",
    "    batches_per_epoch = 0"
   ]
  },
  {
   "cell_type": "code",
   "execution_count": 7,
   "metadata": {
    "id": "PoRqPt1DwtD_"
   },
   "outputs": [
    {
     "name": "stdout",
     "output_type": "stream",
     "text": [
      "Running in colab: False\n"
     ]
    }
   ],
   "source": [
    "if 'google.colab' in sys.modules:\n",
    "    Config.runningColab = True\n",
    "print ('Running in colab:', Config.runningColab)"
   ]
  },
  {
   "cell_type": "code",
   "execution_count": 9,
   "metadata": {
    "id": "MRWx5D09dX3p"
   },
   "outputs": [],
   "source": [
    "# Bit more work switching between local and Colab\n",
    "if Config.runningColab:\n",
    "    Config.generated_path = join(Config.colab_base_path, \"datasets\", Config.save_loc) # output\n",
    "    Config.dataset_path = join(Config.colab_base_path, \"datasets\", Config.dataset)\n",
    "    Config.model_save_path = join(Config.colab_base_path, \"models\")\n",
    "else:\n",
    "    Config.generated_path = join(Config.windows_base_path, \"datasets\", Config.save_loc) # output\n",
    "    Config.dataset_path = join(Config.windows_base_path, \"datasets\", Config.dataset)\n",
    "    Config.model_save_path = join(Config.windows_base_path, \"my_models\")"
   ]
  },
  {
   "cell_type": "code",
   "execution_count": 10,
   "metadata": {},
   "outputs": [
    {
     "data": {
      "text/plain": [
       "'F:\\\\machine_learning\\\\datasets\\\\current_dataset'"
      ]
     },
     "execution_count": 10,
     "metadata": {},
     "output_type": "execute_result"
    }
   ],
   "source": [
    "Config.dataset_path"
   ]
  },
  {
   "cell_type": "code",
   "execution_count": 11,
   "metadata": {
    "id": "UunJuxihuwnY"
   },
   "outputs": [],
   "source": [
    "if not exists(Config.generated_path):\n",
    "    print(f\"Creating {Config.generated_path}\")\n",
    "    os.mkdir(Config.generated_path)"
   ]
  },
  {
   "cell_type": "markdown",
   "metadata": {
    "id": "Yr-eZOzg0X79"
   },
   "source": [
    "## **2) Parameters for Neural Networks & Data**"
   ]
  },
  {
   "cell_type": "code",
   "execution_count": 12,
   "metadata": {
    "id": "5jX4q_Vq3MO6"
   },
   "outputs": [],
   "source": [
    "def seed_everything(seed=42):\n",
    "    Config.seed = seed\n",
    "    tf.random.set_seed(seed)\n",
    "    np.random.seed(seed)\n",
    "    random.seed(seed)\n",
    "    os.environ[\"PYTHONHASHSEED\"] = str(seed)\n",
    "    \n",
    "seed_everything(int(time.time()))"
   ]
  },
  {
   "cell_type": "markdown",
   "metadata": {
    "id": "SaoY5WTbi4dJ"
   },
   "source": [
    "## **Function Defs**"
   ]
  },
  {
   "cell_type": "code",
   "execution_count": 13,
   "metadata": {},
   "outputs": [],
   "source": [
    "def make_noise(num_images_to_gen):\n",
    "    # num_images_to_gen long way to say \"Batch size\". \n",
    "    #result = tf.random.normal(shape=[num_images_to_gen, latent_dim])\n",
    "    result = tf.random.normal(shape=[num_images_to_gen, Config.img_width, Config.img_height, Config.channels])\n",
    "    return result"
   ]
  },
  {
   "cell_type": "code",
   "execution_count": 14,
   "metadata": {},
   "outputs": [],
   "source": [
    "# for cropping, will probably use this for all images since this is resizing and creating new hash. \n",
    "def name_image(img):\n",
    "    hashedImage = hashlib.md5(img.tobytes()).hexdigest()\n",
    "    hashedName = hashedImage + \".\" + \"jpg\"\n",
    "    return hashedName"
   ]
  },
  {
   "cell_type": "code",
   "execution_count": 15,
   "metadata": {
    "id": "fW6DAG4_3MO7"
   },
   "outputs": [],
   "source": [
    "# Decode a single image in a TFRecord\n",
    "# It also standardizes the image\n",
    "# Not really needed since this is done in Numpy\n",
    "def decode_image(image) -> tf.Tensor:\n",
    "    #img = (tf.cast(image, tf.float32) / 127.5) - 1\n",
    "    img = image / 127.5 - 1\n",
    "    print(type(img))\n",
    "    img = tf.reshape(img, [Config.img_width, Config.img_height, Config.channels])\n",
    "    #print(img.shape)\n",
    "    return img"
   ]
  },
  {
   "cell_type": "code",
   "execution_count": 16,
   "metadata": {
    "id": "wLWo-F1C3MO7"
   },
   "outputs": [],
   "source": [
    "# This is technically how you're supposed to do it. \n",
    "# I don't use this function.\n",
    "def dataset_from_dir(dataset_folder, ordered=False):\n",
    "    dataset = tf.keras.utils.image_dataset_from_directory(\n",
    "        dataset_folder,\n",
    "        labels=None,\n",
    "        #validation_split=0.2,\n",
    "        #subset=\"training\",\n",
    "        shuffle = False,\n",
    "        seed=Config.seed,\n",
    "        image_size=(Config.img_height, Config.img_width),\n",
    "        batch_size=1)\n",
    "    dataset = dataset.map(decode_image)\n",
    "    dataset = dataset.cache()\n",
    "    #dataset.shuffle(2048)\n",
    "    return dataset.batch(Config.batch_size)"
   ]
  },
  {
   "cell_type": "code",
   "execution_count": 17,
   "metadata": {
    "id": "O_nkz3k6jZlm"
   },
   "outputs": [],
   "source": [
    "# Memory intensive. Use load_batch instead. \n",
    "# Loads it all into memory. Not Colab friendly. Works if you got 32G or more RAM. \n",
    "def dataset_manual(dataset_folder, max=0):\n",
    "    Config.imageNames = os.listdir(Config.dataset_path)\n",
    "    if max > 0:\n",
    "        imageNames = imageNames[:max]\n",
    "        print(f\"using {len(imageNames)} images.\")\n",
    "    array = []\n",
    "    for image in imageNames:\n",
    "        image = Image.open(join(resized_path, image))\n",
    "        data = np.asarray(image)\n",
    "        array.append(data)\n",
    "\n",
    "    X_train = np.array(array)\n",
    "    X_train = X_train / 127.5 -1.\n",
    "    print(X_train.shape)\n",
    "    return X_train"
   ]
  },
  {
   "cell_type": "code",
   "execution_count": 18,
   "metadata": {},
   "outputs": [],
   "source": [
    "def get_images_list(path):\n",
    "    files = []\n",
    "    # r=root, d=directories, f = files\n",
    "    for r, d, f in os.walk(path):\n",
    "        # Granted by the time I've created a dataset, there should only be jpg\n",
    "        # I may go png and just open with a .convert(\"RGB\") call later on. \n",
    "        for file in f:\n",
    "            if '.jpg' in file.lower() or '.png' in file.lower():\n",
    "                files.append(os.path.join(r, file))\n",
    "    return files"
   ]
  },
  {
   "cell_type": "code",
   "execution_count": 19,
   "metadata": {},
   "outputs": [],
   "source": [
    "# Colab was running out of memory because loading all the datasets into memory burned out the VM. This solves that.\n",
    "# It was also easier to do it this way than the above creating datasets stuff. \n",
    "def load_batch(files, batchSize):\n",
    "    array = []\n",
    "    for i in range(batchSize):\n",
    "        # if there is less than 3 color channels, keep trying. \n",
    "        while True:\n",
    "            file = random.choice(files)\n",
    "            try:\n",
    "                image = Image.open(file).convert(\"RGB\")\n",
    "            except:\n",
    "                file = random.choice(files)\n",
    "                image = Image.open(file)\n",
    "                print(f\"Something occurred with {file}\")\n",
    "            if image.size != (Config.img_width, Config.img_height): # not messing around. It doesn't fit, we'll make it fit. \n",
    "                print(f\"Resizing rogue image {file}.\")\n",
    "                image = image.resize((Config.img_width, Config.img_height))\n",
    "                image.save(file)\n",
    "            if len(image.split()) != 3:\n",
    "                print(f\"Removing {file}\")\n",
    "                os.remove(file)\n",
    "                Config.imageFiles, Config.batches_per_epoch = get_list_build_batches()\n",
    "            else:\n",
    "                break\n",
    "        data = np.asarray(image)\n",
    "        data = data / 127.5 -1.\n",
    "        #print(data)\n",
    "        array.append(data)\n",
    "\n",
    "    train = np.array(array, dtype=np.float32)\n",
    "    return train"
   ]
  },
  {
   "cell_type": "code",
   "execution_count": 20,
   "metadata": {},
   "outputs": [],
   "source": [
    "# Everyon's showe off their data code looks the same. :-p\n",
    "def show_batch(image_batch):\n",
    "    total_images = Config.batch_size\n",
    "    col_row = int(total_images/2)\n",
    "\n",
    "    plt.figure(figsize=(col_row,col_row))\n",
    "    for n in range():\n",
    "        ax = plt.subplot(10,10,n+1)\n",
    "        plt.imshow(image_batch[n, :, :, 0], cmap='gray')\n",
    "        plt.axis(\"off\")"
   ]
  },
  {
   "cell_type": "code",
   "execution_count": 21,
   "metadata": {},
   "outputs": [],
   "source": [
    "def save_image(name, source):\n",
    "    image = Image.fromarray(np.uint8(source*255))\n",
    "    image.save(name)"
   ]
  },
  {
   "cell_type": "code",
   "execution_count": 22,
   "metadata": {},
   "outputs": [],
   "source": [
    "def get_list_build_batches():\n",
    "    print(f\"Getting file list and factoring how many batches per Epoch.\")\n",
    "    Config.files = get_images_list(Config.dataset_path)\n",
    "    epoch_batches = int(len(Config.files) / Config.batch_size )\n",
    "    epoch_batches = epoch_batches - (epoch_batches % Config.batch_size)\n",
    "    Config.batches_per_epoch = epoch_batches - (epoch_batches % Config.batch_size)\n",
    "    #return imageFiles, epoch_batches"
   ]
  },
  {
   "cell_type": "markdown",
   "metadata": {
    "id": "SaoY5WTbi4dJ"
   },
   "source": [
    "# **Load and visualize the dataset**"
   ]
  },
  {
   "cell_type": "markdown",
   "metadata": {},
   "source": [
    "### Counts how many batches per epoch will be used. Important really. "
   ]
  },
  {
   "cell_type": "code",
   "execution_count": 23,
   "metadata": {
    "id": "Py9whIfpG7jU",
    "tags": []
   },
   "outputs": [
    {
     "name": "stdout",
     "output_type": "stream",
     "text": [
      "Getting file list and factoring how many batches per Epoch.\n",
      "2830\n"
     ]
    }
   ],
   "source": [
    "# Builds list of images into array. Reduces file IO.\n",
    "#Config.imageFiles, Config.batches_per_epoch = get_list_build_batches()\n",
    "Config.test_images = get_images_list(Config.test_images_path)\n",
    "\n",
    "# batches based on generator dataset. \n",
    "get_list_build_batches()\n",
    "print(Config.batches_per_epoch)"
   ]
  },
  {
   "cell_type": "markdown",
   "metadata": {},
   "source": [
    "### Visualization stuff. Can be skipped. "
   ]
  },
  {
   "cell_type": "code",
   "execution_count": 26,
   "metadata": {},
   "outputs": [],
   "source": [
    "images = load_batch(Config.files, Config.batch_size)\n",
    "#images = load_batch(Config.test_images, Config.batch_size)"
   ]
  },
  {
   "cell_type": "code",
   "execution_count": 27,
   "metadata": {},
   "outputs": [],
   "source": [
    "## Test the image manipulation and formatting here. "
   ]
  },
  {
   "cell_type": "code",
   "execution_count": 28,
   "metadata": {},
   "outputs": [
    {
     "data": {
      "text/plain": [
       "(5, 512, 512, 3)"
      ]
     },
     "execution_count": 28,
     "metadata": {},
     "output_type": "execute_result"
    }
   ],
   "source": [
    "images.shape"
   ]
  },
  {
   "cell_type": "code",
   "execution_count": 29,
   "metadata": {},
   "outputs": [
    {
     "name": "stdout",
     "output_type": "stream",
     "text": [
      "-1.0 1.0\n"
     ]
    }
   ],
   "source": [
    "print(images.min(), images.max())"
   ]
  },
  {
   "cell_type": "code",
   "execution_count": 30,
   "metadata": {},
   "outputs": [],
   "source": [
    "images = (images + 1) / 2.0 # Changed from -1...1 to 0...1 for plt and save to work. "
   ]
  },
  {
   "cell_type": "code",
   "execution_count": 31,
   "metadata": {
    "colab": {
     "base_uri": "https://localhost:8080/",
     "height": 594
    },
    "id": "Bm5MaRIPoSdA",
    "outputId": "908cb0ec-3b86-4a2d-b295-975018d98f4d"
   },
   "outputs": [
    {
     "data": {
      "image/png": "[encoded data removed]",
      "text/plain": [
       "<Figure size 1000x1000 with 1 Axes>"
      ]
     },
     "metadata": {},
     "output_type": "display_data"
    }
   ],
   "source": [
    "image = random.choice(images)\n",
    "plt.figure(figsize=(10,10))\n",
    "plt.imshow(image)\n",
    "plt.show()\n",
    "#save_image(\"batch_test.png\", image)"
   ]
  },
  {
   "cell_type": "code",
   "execution_count": 32,
   "metadata": {
    "id": "Xr_kKjt53MO8"
   },
   "outputs": [],
   "source": [
    "#X_train = dataset_from_dir(Config.dataset_path) \n",
    "#epoch_batches = len(X_train)"
   ]
  },
  {
   "cell_type": "markdown",
   "metadata": {},
   "source": [
    "## **Functions to build Gen/Disc**"
   ]
  },
  {
   "cell_type": "code",
   "execution_count": 33,
   "metadata": {},
   "outputs": [],
   "source": [
    "def downsample(filters, size, apply_instancenorm=True):\n",
    "    initializer = tf.random_normal_initializer(0., 0.02)\n",
    "    gamma_init = keras.initializers.RandomNormal(mean=0.0, stddev=0.02)\n",
    "\n",
    "    result = keras.Sequential()\n",
    "    result.add(layers.Conv2D(filters, size, strides=2, padding='same',\n",
    "                             kernel_initializer=initializer, use_bias=False))\n",
    "\n",
    "    if apply_instancenorm:\n",
    "        result.add(tfa.layers.InstanceNormalization(gamma_initializer=gamma_init))\n",
    "\n",
    "    result.add(layers.LeakyReLU())\n",
    "\n",
    "    return result"
   ]
  },
  {
   "cell_type": "code",
   "execution_count": 34,
   "metadata": {},
   "outputs": [],
   "source": [
    "def upsample(filters, size, apply_dropout=False):\n",
    "    initializer = tf.random_normal_initializer(0., 0.02)\n",
    "    gamma_init = keras.initializers.RandomNormal(mean=0.0, stddev=0.02)\n",
    "\n",
    "    result = keras.Sequential()\n",
    "    result.add(layers.Conv2DTranspose(filters, size, strides=2,\n",
    "                                      padding='same',\n",
    "                                      kernel_initializer=initializer,\n",
    "                                      use_bias=False))\n",
    "\n",
    "    result.add(tfa.layers.InstanceNormalization(gamma_initializer=gamma_init))\n",
    "\n",
    "    if apply_dropout:\n",
    "        result.add(layers.Dropout(0.5))\n",
    "\n",
    "    result.add(layers.ReLU())\n",
    "\n",
    "    return result"
   ]
  },
  {
   "cell_type": "markdown",
   "metadata": {
    "id": "U3bcJZZg0cqy"
   },
   "source": [
    "## **3) Building Generator**\n",
    "\n",
    "\n",
    "\n"
   ]
  },
  {
   "cell_type": "code",
   "execution_count": 35,
   "metadata": {
    "colab": {
     "base_uri": "https://localhost:8080/"
    },
    "id": "NdiqZpri0iQh",
    "outputId": "a3992edd-6de2-4a2b-b33f-65652112a64e",
    "tags": []
   },
   "outputs": [],
   "source": [
    "# This one is OK, but it takes a flat noise and does things to make images. I've trained 200 epochs and still get junk. \n",
    "def Generator1():\n",
    "    multiplyer = int(((img_width/2)/2/2))\n",
    "    model = Sequential(name=\"Generator\")\n",
    "    model.add(Dense(img_width * multiplyer * multiplyer, input_dim=latent_dim)) # img_width was 256 here. \n",
    "    model.add(LeakyReLU(alpha=0.3))\n",
    "    model.add(Reshape((multiplyer,multiplyer,img_width))) # img_width was 256 here. \n",
    "    \n",
    "    #model.add(BatchNormalization()) # Added\n",
    "    \n",
    "    model.add(Conv2DTranspose(128, (4,4), strides=(1,1), padding='same'))\n",
    "    model.add(LeakyReLU(alpha=0.3)) # activation leakey instead of old fashion RelU\n",
    "\n",
    "    model.add(Conv2DTranspose(128, (4,4), strides=(2,2), padding='same'))\n",
    "    model.add(LeakyReLU(alpha=0.2))\n",
    "\n",
    "    model.add(Conv2DTranspose(128, (2,2), strides=(2,2), padding='same'))\n",
    "    model.add(LeakyReLU(alpha=0.3))\n",
    "    \n",
    "    model.add(Conv2DTranspose(128, (4,4), strides=(2,2), padding='same'))\n",
    "    model.add(LeakyReLU(alpha=0.3))\n",
    "\n",
    "    model.add(Conv2D(3, (3,3), activation='tanh', padding='same'))\n",
    "    return model"
   ]
  },
  {
   "cell_type": "code",
   "execution_count": 36,
   "metadata": {},
   "outputs": [],
   "source": [
    "# When building an image generator, it just makes sense they'd take in noise or an image of the same size it generates. \n",
    "def Generator2(width=512, height=512, channels=3):\n",
    "    inputs = layers.Input(shape=(width, height, channels))\n",
    "\n",
    "    # bs = batch size\n",
    "    down_stack = [\n",
    "        downsample(64, 4, apply_instancenorm=False), # (bs, 128, 128, 64)\n",
    "        downsample(128, 4), # (bs, 64, 64, 128)\n",
    "        downsample(256, 4), # (bs, 32, 32, 256)\n",
    "        downsample(512, 4), # (bs, 16, 16, 512)\n",
    "        downsample(512, 4), # (bs, 8, 8, 512)\n",
    "        downsample(512, 4), # (bs, 4, 4, 512)\n",
    "        downsample(512, 4), # (bs, 2, 2, 512)\n",
    "        downsample(512, 4), # (bs, 1, 1, 512)\n",
    "    ]\n",
    "\n",
    "    up_stack = [\n",
    "        upsample(512, 4, apply_dropout=True), # (bs, 2, 2, 1024)\n",
    "        upsample(512, 4, apply_dropout=True), # (bs, 4, 4, 1024)\n",
    "        upsample(512, 4, apply_dropout=True), # (bs, 8, 8, 1024)\n",
    "        upsample(512, 4), # (bs, 16, 16, 1024)\n",
    "        upsample(256, 4), # (bs, 32, 32, 512)\n",
    "        upsample(128, 4), # (bs, 64, 64, 256)\n",
    "        upsample(64, 4), # (bs, 128, 128, 128)\n",
    "    ]\n",
    "\n",
    "    initializer = tf.random_normal_initializer(0., 0.02)\n",
    "    last = layers.Conv2DTranspose(channels, 4,\n",
    "                                  strides=2,\n",
    "                                  padding='same',\n",
    "                                  kernel_initializer=initializer,\n",
    "                                  activation='tanh') # (bs, 256, 256, 3)\n",
    "\n",
    "    x = inputs\n",
    "\n",
    "    # Downsampling through the model\n",
    "    skips = []\n",
    "    for down in down_stack:\n",
    "        x = down(x)\n",
    "        skips.append(x)\n",
    "\n",
    "    skips = reversed(skips[:-1])\n",
    "\n",
    "    # Upsampling and establishing the skip connections\n",
    "    for up, skip in zip(up_stack, skips):\n",
    "        x = up(x)\n",
    "        x = layers.Concatenate()([x, skip])\n",
    "\n",
    "    x = last(x)\n",
    "\n",
    "    return keras.Model(inputs=inputs, outputs=x, name=\"Generator\")"
   ]
  },
  {
   "cell_type": "code",
   "execution_count": 37,
   "metadata": {},
   "outputs": [],
   "source": [
    "def Generator3(width=512, height=512, channels=3):\n",
    "    model = tf.keras.Sequential()\n",
    "    model.add(layers.Dense(7*7*1024, use_bias=False, input_shape=(None, width, height, channels)))\n",
    "    model.add(layers.BatchNormalization())\n",
    "    model.add(layers.LeakyReLU())\n",
    "\n",
    "    model.add(layers.Reshape((7, 7, 1024)))\n",
    "    assert model.output_shape == (None, 7, 7, 1024) # Note: None is the batch size\n",
    "\n",
    "    model.add(layers.Conv2DTranspose(512, (5, 5), strides=(1, 1), padding='same', use_bias=False))\n",
    "    assert model.output_shape == (None, 7, 7, 512)\n",
    "    model.add(layers.BatchNormalization())\n",
    "    model.add(layers.LeakyReLU())\n",
    "\n",
    "    model.add(layers.Conv2DTranspose(256, (5, 5), strides=(2, 2), padding='same', use_bias=False))\n",
    "    assert model.output_shape == (None, 14, 14, 256)\n",
    "    model.add(layers.BatchNormalization())\n",
    "    model.add(layers.LeakyReLU())\n",
    "    \n",
    "    model.add(layers.Conv2DTranspose(128, (5, 5), strides=(2, 2), padding='same', use_bias=False))\n",
    "    assert model.output_shape == (None, 28, 28, 128)\n",
    "    model.add(layers.BatchNormalization())\n",
    "    model.add(layers.LeakyReLU())\n",
    "\n",
    "    model.add(layers.Conv2DTranspose(64, (5, 5), strides=(2, 2), padding='same', use_bias=False))\n",
    "    assert model.output_shape == (None, 56, 56, 64)\n",
    "    model.add(layers.BatchNormalization())\n",
    "    model.add(layers.LeakyReLU())\n",
    "    \n",
    "    model.add(layers.Conv2DTranspose(2, (5, 5), strides=(2, 2), padding='same', use_bias=False, activation='tanh'))\n",
    "    return model"
   ]
  },
  {
   "cell_type": "markdown",
   "metadata": {
    "id": "Bt6QsJCW0mcI"
   },
   "source": [
    "## **4) Building Discriminator**"
   ]
  },
  {
   "cell_type": "code",
   "execution_count": 38,
   "metadata": {
    "colab": {
     "base_uri": "https://localhost:8080/"
    },
    "id": "V2JzEAPv0lKt",
    "outputId": "a59cc954-e46b-47a7-aaca-b83415f1e9ea"
   },
   "outputs": [],
   "source": [
    "def Discriminator1():\n",
    "    model = Sequential(name=\"Discriminator\")\n",
    "    model.add(Conv2D(64, (3,3), padding='same', input_shape=img_shape))\n",
    "    model.add(LeakyReLU(alpha=0.3))\n",
    "\n",
    "    model.add(Conv2D(128, (3,3), padding='same', ))\n",
    "    model.add(LeakyReLU(alpha=0.3))\n",
    "    \n",
    "    model.add(Conv2D(128, (3,3), padding='same'))\n",
    "    model.add(LeakyReLU(alpha=0.3))\n",
    "\n",
    "    model.add(Conv2D(filters=256, kernel_size=(2,2), padding='same'))\n",
    "    model.add(LeakyReLU(alpha=0.3))\n",
    "    \n",
    "    model.add(Conv2D(256, (3,3), padding='same'))\n",
    "    model.add(LeakyReLU(alpha=0.3))\n",
    "\n",
    "    model.add(Flatten())\n",
    "    model.add(Dropout(0.4))\n",
    "    model.add(Dense(1, activation='sigmoid'))\n",
    "\n",
    "    return model"
   ]
  },
  {
   "cell_type": "code",
   "execution_count": 39,
   "metadata": {},
   "outputs": [],
   "source": [
    "def Discriminator2(width=512, height=512, channels=3):\n",
    "    initializer = tf.random_normal_initializer(0., 0.02)\n",
    "    gamma_init = keras.initializers.RandomNormal(mean=0.0, stddev=0.02)\n",
    "\n",
    "    inp = layers.Input(shape=(width, height, channels), batch_size=None)\n",
    "\n",
    "    x = inp\n",
    "\n",
    "    down1 = downsample(64, 4, False)(x) # (bs, 128, 128, 64)\n",
    "    down2 = downsample(128, 4)(down1) # (bs, 64, 64, 128)\n",
    "    down3 = downsample(256, 4)(down2) # (bs, 32, 32, 256)\n",
    "    zero_pad1 = layers.ZeroPadding2D()(down3) # (bs, 34, 34, 256)\n",
    "\n",
    "    conv = layers.Conv2D(512, 4, strides=1, kernel_initializer=initializer, use_bias=False)(zero_pad1) # (bs, 31, 31, 512)\n",
    "    norm1 = tfa.layers.InstanceNormalization(gamma_initializer=gamma_init)(conv)\n",
    "    leaky_relu = layers.LeakyReLU()(norm1)\n",
    "    zero_pad2 = layers.ZeroPadding2D()(leaky_relu) # (bs, 33, 33, 512)\n",
    "    \n",
    "    conv = layers.Conv2D(512, 4, strides=1, kernel_initializer=initializer, use_bias=False)(conv) # (bs, 31, 31, 512)\n",
    "    norm1 = tfa.layers.InstanceNormalization(gamma_initializer=gamma_init)(conv)\n",
    "    leaky_relu = layers.LeakyReLU()(norm1)\n",
    "    zero_pad2 = layers.ZeroPadding2D()(leaky_relu) # (bs, 33, 33, 512)\n",
    "    \n",
    "    conv = layers.Conv2D(512, 4, strides=1, kernel_initializer=initializer, use_bias=False)(conv) # (bs, 31, 31, 512)\n",
    "    norm1 = tfa.layers.InstanceNormalization(gamma_initializer=gamma_init)(conv)\n",
    "    leaky_relu = layers.LeakyReLU()(norm1)\n",
    "    zero_pad2 = layers.ZeroPadding2D()(leaky_relu) # (bs, 33, 33, 512)\n",
    "\n",
    "\n",
    "    last = layers.Conv2D(1, 4, strides=1, kernel_initializer=initializer)(zero_pad2) # (bs, 30, 30, 1)\n",
    "    last = Flatten()(last)\n",
    "    #last = Dropout(0.4)(last)\n",
    "    last = Dense(1, activation='sigmoid')(last)\n",
    "\n",
    "    return tf.keras.Model(inputs=inp, outputs=last, name=\"Discriminator\")"
   ]
  },
  {
   "cell_type": "code",
   "execution_count": 40,
   "metadata": {},
   "outputs": [
    {
     "name": "stdout",
     "output_type": "stream",
     "text": [
      "Model: \"Discriminator\"\n",
      "_________________________________________________________________\n",
      " Layer (type)                Output Shape              Param #   \n",
      "=================================================================\n",
      " input_1 (InputLayer)        [(None, 512, 512, 3)]     0         \n",
      "                                                                 \n",
      " sequential (Sequential)     (None, 256, 256, 64)      3072      \n",
      "                                                                 \n",
      " sequential_1 (Sequential)   (None, 128, 128, 128)     131328    \n",
      "                                                                 \n",
      " sequential_2 (Sequential)   (None, 64, 64, 256)       524800    \n",
      "                                                                 \n",
      " zero_padding2d (ZeroPadding  (None, 66, 66, 256)      0         \n",
      " 2D)                                                             \n",
      "                                                                 \n",
      " conv2d_3 (Conv2D)           (None, 63, 63, 512)       2097152   \n",
      "                                                                 \n",
      " conv2d_4 (Conv2D)           (None, 60, 60, 512)       4194304   \n",
      "                                                                 \n",
      " conv2d_5 (Conv2D)           (None, 57, 57, 512)       4194304   \n",
      "                                                                 \n",
      " instance_normalization_4 (I  (None, 57, 57, 512)      1024      \n",
      " nstanceNormalization)                                           \n",
      "                                                                 \n",
      " leaky_re_lu_5 (LeakyReLU)   (None, 57, 57, 512)       0         \n",
      "                                                                 \n",
      " zero_padding2d_3 (ZeroPaddi  (None, 59, 59, 512)      0         \n",
      " ng2D)                                                           \n",
      "                                                                 \n",
      " conv2d_6 (Conv2D)           (None, 56, 56, 1)         8193      \n",
      "                                                                 \n",
      " flatten (Flatten)           (None, 3136)              0         \n",
      "                                                                 \n",
      " dense (Dense)               (None, 1)                 3137      \n",
      "                                                                 \n",
      "=================================================================\n",
      "Total params: 11,157,314\n",
      "Trainable params: 11,157,314\n",
      "Non-trainable params: 0\n",
      "_________________________________________________________________\n"
     ]
    }
   ],
   "source": [
    "discriminator = Discriminator2(Config.img_width, Config.img_height, Config.channels)\n",
    "discriminator.summary()"
   ]
  },
  {
   "cell_type": "code",
   "execution_count": 41,
   "metadata": {},
   "outputs": [],
   "source": [
    "def Discriminator3(width=512, height=512, channels=3):\n",
    "    model = tf.keras.Sequential()\n",
    "    \n",
    "    model.add(layers.Conv2D(filters=64, kernel_size=1, strides=(2, 2), padding='same', input_shape=(width, height, channels)))\n",
    "    model.add(layers.LeakyReLU())\n",
    "    model.add(layers.Dropout(0.3))\n",
    "\n",
    "    model.add(layers.Conv2D(filters=128, kernel_size=1, strides=(2, 2), padding='same'))\n",
    "    model.add(layers.LeakyReLU())\n",
    "    model.add(layers.Dropout(0.3))\n",
    "    \n",
    "    model.add(layers.Conv2D(filters=256, kernel_size=1, strides=(2, 2), padding='same'))\n",
    "    model.add(layers.LeakyReLU())\n",
    "    model.add(layers.Dropout(0.3))\n",
    "    \n",
    "    model.add(layers.Conv2D(filters=512, kernel_size=1, strides=(2, 2), padding='same'))\n",
    "    model.add(layers.LeakyReLU())\n",
    "    model.add(layers.Dropout(0.3))\n",
    "\n",
    "    #model.add(layers.Flatten())\n",
    "    model.add(GlobalAveragePooling1D (keepdims=False))\n",
    "    model.add(layers.Dense(1))\n",
    "\n",
    "    return model\n"
   ]
  },
  {
   "cell_type": "code",
   "execution_count": 42,
   "metadata": {},
   "outputs": [],
   "source": [
    "# Old way.\n",
    "#generator = Generator1()\n",
    "#discriminator = Discriminator1()"
   ]
  },
  {
   "cell_type": "code",
   "execution_count": 43,
   "metadata": {},
   "outputs": [],
   "source": [
    "generator = Generator2(Config.img_width, Config.img_height, Config.channels)\n",
    "discriminator = Discriminator2(Config.img_width, Config.img_height, Config.channels)"
   ]
  },
  {
   "cell_type": "code",
   "execution_count": 44,
   "metadata": {},
   "outputs": [],
   "source": [
    "#generator = Generator3(Config.img_width, Config.img_height, Config.channels)\n",
    "#discriminator = Discriminator3(Config.img_width, Config.img_height, Config.channels)"
   ]
  },
  {
   "cell_type": "code",
   "execution_count": 45,
   "metadata": {},
   "outputs": [],
   "source": [
    "#generator.summary()"
   ]
  },
  {
   "cell_type": "code",
   "execution_count": 46,
   "metadata": {},
   "outputs": [],
   "source": [
    "#discriminator.summary()"
   ]
  },
  {
   "cell_type": "code",
   "execution_count": 47,
   "metadata": {},
   "outputs": [],
   "source": [
    "# Optimizer stuff. Moved down here to be closer where it is used. \n",
    "\n",
    "# adam = Adam(learning_rate=0.002) # Default is 0.001\n",
    "optimizer = Adam(learning_rate=0.003, beta_1=0.5) # generic name so it can be flipped without much code change. \n",
    "loss = 'binary_crossentropy'"
   ]
  },
  {
   "cell_type": "code",
   "execution_count": 48,
   "metadata": {},
   "outputs": [],
   "source": [
    "discriminator.compile(loss=loss, optimizer=optimizer, metrics=['accuracy'])\n",
    "#discriminator.compile(loss=tf.keras.losses.BinaryCrossentropy(from_logits=True, reduction=tf.keras.losses.Reduction.NONE), optimizer=adam, metrics=['accuracy'])\n",
    "#discriminator.compile(loss=tf.keras.losses.SparseCategoricalCrossentropy(), optimizer=adam, metrics=['accuracy'])\n",
    "\n",
    "discriminator.trainable = False # Set to false before compiling main GAN."
   ]
  },
  {
   "cell_type": "markdown",
   "metadata": {
    "id": "TbcKcKmA0q2S"
   },
   "source": [
    "## **5) Connecting Neural Networks to build GAN**"
   ]
  },
  {
   "cell_type": "code",
   "execution_count": 49,
   "metadata": {
    "colab": {
     "base_uri": "https://localhost:8080/"
    },
    "id": "q0Ue3TEd0xLy",
    "outputId": "4728b9c4-dd89-443d-d6e5-ea9b6a17f4ea"
   },
   "outputs": [
    {
     "name": "stdout",
     "output_type": "stream",
     "text": [
      "Model: \"AnimeHorrorGan\"\n",
      "_________________________________________________________________\n",
      " Layer (type)                Output Shape              Param #   \n",
      "=================================================================\n",
      " Generator (Functional)      (None, 512, 512, 3)       54414979  \n",
      "                                                                 \n",
      " Discriminator (Functional)  (None, 1)                 11157314  \n",
      "                                                                 \n",
      "=================================================================\n",
      "Total params: 65,572,293\n",
      "Trainable params: 54,414,979\n",
      "Non-trainable params: 11,157,314\n",
      "_________________________________________________________________\n"
     ]
    }
   ],
   "source": [
    "GAN = Sequential(name=Config.gan_name)\n",
    "GAN.add(generator)\n",
    "GAN.add(discriminator)\n",
    "GAN.summary()\n",
    "\n",
    "GAN.compile(loss=loss, optimizer=optimizer)"
   ]
  },
  {
   "cell_type": "code",
   "execution_count": 50,
   "metadata": {
    "id": "EPqU8dZDaQmE"
   },
   "outputs": [],
   "source": [
    "#generator.summary()\n",
    "#discriminator.summary()"
   ]
  },
  {
   "cell_type": "markdown",
   "metadata": {
    "id": "2WaNhBDwRwTG"
   },
   "source": [
    "## **6) Outputting Images**\n"
   ]
  },
  {
   "cell_type": "code",
   "execution_count": 51,
   "metadata": {
    "id": "HQEJ0WbjRppy"
   },
   "outputs": [],
   "source": [
    "def test_generator(epoch):\n",
    "    generator, discriminator = GAN.layers\n",
    "    num_to_gen = 8\n",
    "    noise = make_noise(num_to_gen)\n",
    "    #noise = load_batch(Config.test_images, num_to_gen)\n",
    "    \n",
    "    gen_imgs = generator(noise)\n",
    "    gen_imgs = (gen_imgs + 1) / 2.0\n",
    "\n",
    "    # Rescale images 0 - 1\n",
    "    print(f\"Generating {num_to_gen} test images.\")\n",
    "\n",
    "    for i in range(num_to_gen):\n",
    "        save_image(f\"{Config.generated_path}/{epoch}_{Config.gan_name}_{i}.jpg\", gen_imgs[i])\n"
   ]
  },
  {
   "cell_type": "markdown",
   "metadata": {
    "id": "tE57Lk5V0xs2"
   },
   "source": [
    "## **7) Training GAN**"
   ]
  },
  {
   "cell_type": "code",
   "execution_count": 55,
   "metadata": {
    "colab": {
     "base_uri": "https://localhost:8080/"
    },
    "id": "egSJJvik00Iq",
    "outputId": "a142d784-0d8e-48e3-8055-0388913c3879"
   },
   "outputs": [],
   "source": [
    "def train(epochs, batch_size=32):\n",
    "    # Grab the seprate components\n",
    "    generator, discriminator = GAN.layers\n",
    "    \n",
    "\n",
    "    print(f\"training starting with {epochs} epochs of {Config.batches_per_epoch} total batches each. Batch size is {batch_size}\")\n",
    "    #train = np.expand_dims(X_train, axis=3)\n",
    "    #print(f\"Train shape = {train.shape}\")\n",
    "\n",
    "    #Create our Y for our Neural Networks\n",
    "    valid = np.ones((batch_size, 1))\n",
    "    fakes = np.zeros((batch_size, 1))\n",
    "    \n",
    "    generator_file = join(Config.model_save_path, f\"{Config.gan_name}_generator.h5\")\n",
    "    discriminator_file = join(Config.model_save_path, f\"{Config.gan_name}_discriminator.h5\")\n",
    "    \n",
    "    if exists(generator_file):\n",
    "        print(\"Loading generator weights.\")\n",
    "        generator.load_weights(generator_file)\n",
    "    if exists(discriminator_file):\n",
    "        print(\"Loading discriminator weights.\")\n",
    "        discriminator.load_weights(discriminator_file)\n",
    "\n",
    "    for epoch in range(epochs):\n",
    "        epoch_batches = Config.batches_per_epoch # If it changes. \n",
    "        for j in range(epoch_batches):\n",
    "\n",
    "            #Phase 1: Generate fake images.\n",
    "            #gen_train_imgs = load_batch(Config.gen_files, batch_size)\n",
    "            gen_train_imgs = make_noise(batch_size)\n",
    "            gen_imgs = generator(gen_train_imgs)\n",
    "            #\n",
    "\n",
    "            #Phase 2: Train discriminator\n",
    "            discriminator.trainable = True # I think we forgot this so it never trained, ever. \n",
    "            disc_train_imgs = load_batch(Config.files, batch_size) #Get Random Batch\n",
    "            d_loss_fake = discriminator.train_on_batch(gen_imgs, fakes)\n",
    "            d_loss_real = discriminator.train_on_batch(disc_train_imgs, valid)\n",
    "            discriminator.trainable = False\n",
    "\n",
    "            d_loss = 0.5 * np.add(d_loss_real, d_loss_fake)\n",
    "\n",
    "            # Phase 3: feed fake images to generator and set labels as \"real\". \n",
    "            #gen_train_imgs = load_batch(Config.gen_files, batch_size)\n",
    "            gen_train_imgs = make_noise(batch_size)\n",
    "            \n",
    "            g_loss = GAN.train_on_batch(gen_train_imgs, valid)\n",
    "            \n",
    "            if j % 50 == 0:\n",
    "                print(f\"******* Epoch: {epoch+1}/{epochs}: Batch {j}/{epoch_batches} [D loss: {d_loss[0]:.6f}, acc: {100* d_loss[1]:.2f}%] [G loss: {g_loss:.6f}]\")\n",
    "\n",
    "        print(f\"Saving weights: {generator_file}\")\n",
    "        generator.save_weights(generator_file)\n",
    "        discriminator.save_weights(discriminator_file)\n",
    "\n",
    "        # Sometimes I get a really great training and then later Epochs it gets wrecked. \n",
    "        # So I save every X epochs. \n",
    "        # **** This will take up a lot of disk space. \n",
    "        if epoch % 50 == 0:\n",
    "            backup_gen_file = join(Config.model_save_path, f\"{Config.gan_name}_generator_{Config.seed}.h5\")\n",
    "            backup_disc_file = join(Config.model_save_path, f\"{Config.gan_name}_discriminator_{Config.seed}.h5\")\n",
    "            generator.save_weights(backup_gen_file)\n",
    "            discriminator.save_weights(backup_disc_file)\n",
    "        \n",
    "        test_generator(epoch)\n",
    "        # Adding a seed after every epoch makes results close to impossible to reproduce. \n",
    "        # Seed is saved with backup model so that's a start. \n",
    "        seed_everything(int(time.time()))\n",
    "    print(\"Training Done!\")"
   ]
  },
  {
   "cell_type": "code",
   "execution_count": 56,
   "metadata": {},
   "outputs": [
    {
     "name": "stdout",
     "output_type": "stream",
     "text": [
      "Removing saved models.\n"
     ]
    }
   ],
   "source": [
    "startover = True\n",
    "if startover:\n",
    "    generator_file = join(Config.model_save_path, f\"{Config.gan_name}_generator.h5\")\n",
    "    discriminator_file = join(Config.model_save_path, f\"{Config.gan_name}_discriminator.h5\")\n",
    "\n",
    "    print(\"Removing saved models.\")\n",
    "    if exists(generator_file):\n",
    "        # Gonna assume it's 2 for one.\n",
    "        os.remove(generator_file)\n",
    "        os.remove(discriminator_file)"
   ]
  },
  {
   "cell_type": "code",
   "execution_count": null,
   "metadata": {},
   "outputs": [
    {
     "name": "stdout",
     "output_type": "stream",
     "text": [
      "training starting with 500 epochs of 2830 total batches each. Batch size is 5\n",
      "******* Epoch: 1/500: Batch 0/2830 [D loss: 0.674925, acc: 70.00%] [G loss: 0.130794]\n",
      "******* Epoch: 1/500: Batch 50/2830 [D loss: 0.725652, acc: 10.00%] [G loss: 0.770797]\n",
      "******* Epoch: 1/500: Batch 100/2830 [D loss: 1.299441, acc: 20.00%] [G loss: 0.737038]\n",
      "******* Epoch: 1/500: Batch 150/2830 [D loss: 0.012172, acc: 100.00%] [G loss: 6.321479]\n",
      "******* Epoch: 1/500: Batch 200/2830 [D loss: 0.190783, acc: 100.00%] [G loss: 1.711677]\n",
      "******* Epoch: 1/500: Batch 250/2830 [D loss: 0.052551, acc: 100.00%] [G loss: 2.639559]\n",
      "******* Epoch: 1/500: Batch 300/2830 [D loss: 0.008846, acc: 100.00%] [G loss: 3.937808]\n",
      "******* Epoch: 1/500: Batch 350/2830 [D loss: 0.104289, acc: 100.00%] [G loss: 2.719703]\n",
      "******* Epoch: 1/500: Batch 400/2830 [D loss: 0.221192, acc: 100.00%] [G loss: 2.237535]\n",
      "******* Epoch: 1/500: Batch 450/2830 [D loss: 0.002707, acc: 100.00%] [G loss: 4.312621]\n",
      "******* Epoch: 1/500: Batch 500/2830 [D loss: 0.184864, acc: 100.00%] [G loss: 2.521518]\n",
      "******* Epoch: 1/500: Batch 550/2830 [D loss: 0.751527, acc: 70.00%] [G loss: 1.179554]\n",
      "******* Epoch: 1/500: Batch 600/2830 [D loss: 0.682647, acc: 60.00%] [G loss: 1.779216]\n",
      "******* Epoch: 1/500: Batch 650/2830 [D loss: 0.528438, acc: 70.00%] [G loss: 1.814127]\n",
      "******* Epoch: 1/500: Batch 700/2830 [D loss: 0.662411, acc: 70.00%] [G loss: 0.817991]\n",
      "******* Epoch: 1/500: Batch 750/2830 [D loss: 0.615340, acc: 80.00%] [G loss: 1.847618]\n",
      "******* Epoch: 1/500: Batch 800/2830 [D loss: 0.470977, acc: 80.00%] [G loss: 1.541436]\n",
      "******* Epoch: 1/500: Batch 850/2830 [D loss: 0.338739, acc: 80.00%] [G loss: 2.708614]\n",
      "******* Epoch: 1/500: Batch 900/2830 [D loss: 0.003352, acc: 100.00%] [G loss: 6.227555]\n",
      "******* Epoch: 1/500: Batch 950/2830 [D loss: 0.938609, acc: 40.00%] [G loss: 2.888538]\n",
      "******* Epoch: 1/500: Batch 1000/2830 [D loss: 0.329205, acc: 90.00%] [G loss: 1.190131]\n",
      "******* Epoch: 1/500: Batch 1050/2830 [D loss: 0.726872, acc: 40.00%] [G loss: 1.115810]\n",
      "******* Epoch: 1/500: Batch 1100/2830 [D loss: 0.454463, acc: 70.00%] [G loss: 2.531672]\n",
      "******* Epoch: 1/500: Batch 1150/2830 [D loss: 0.616925, acc: 70.00%] [G loss: 1.047543]\n",
      "******* Epoch: 1/500: Batch 1200/2830 [D loss: 0.230258, acc: 100.00%] [G loss: 1.087137]\n",
      "******* Epoch: 1/500: Batch 1250/2830 [D loss: 1.082326, acc: 60.00%] [G loss: 1.041455]\n",
      "******* Epoch: 1/500: Batch 1300/2830 [D loss: 0.017910, acc: 100.00%] [G loss: 5.302068]\n",
      "******* Epoch: 1/500: Batch 1350/2830 [D loss: 0.112731, acc: 100.00%] [G loss: 3.689194]\n",
      "******* Epoch: 1/500: Batch 1400/2830 [D loss: 0.441602, acc: 90.00%] [G loss: 0.979819]\n",
      "******* Epoch: 1/500: Batch 1450/2830 [D loss: 0.304714, acc: 90.00%] [G loss: 1.477169]\n",
      "******* Epoch: 1/500: Batch 1500/2830 [D loss: 0.615575, acc: 60.00%] [G loss: 0.946121]\n",
      "******* Epoch: 1/500: Batch 1550/2830 [D loss: 0.033894, acc: 100.00%] [G loss: 3.441720]\n",
      "******* Epoch: 1/500: Batch 1600/2830 [D loss: 0.738058, acc: 60.00%] [G loss: 1.042444]\n",
      "******* Epoch: 1/500: Batch 1650/2830 [D loss: 0.493358, acc: 80.00%] [G loss: 1.378831]\n",
      "******* Epoch: 1/500: Batch 1700/2830 [D loss: 0.657978, acc: 70.00%] [G loss: 1.362654]\n",
      "******* Epoch: 1/500: Batch 1750/2830 [D loss: 0.639539, acc: 80.00%] [G loss: 1.126561]\n",
      "******* Epoch: 1/500: Batch 1800/2830 [D loss: 0.653514, acc: 70.00%] [G loss: 1.277929]\n",
      "******* Epoch: 1/500: Batch 1850/2830 [D loss: 0.423614, acc: 80.00%] [G loss: 0.905156]\n",
      "******* Epoch: 1/500: Batch 1900/2830 [D loss: 0.273007, acc: 90.00%] [G loss: 0.724347]\n",
      "******* Epoch: 1/500: Batch 1950/2830 [D loss: 0.768854, acc: 60.00%] [G loss: 1.488235]\n",
      "******* Epoch: 1/500: Batch 2000/2830 [D loss: 0.698604, acc: 50.00%] [G loss: 1.301207]\n",
      "******* Epoch: 1/500: Batch 2050/2830 [D loss: 0.295873, acc: 80.00%] [G loss: 0.295327]\n",
      "******* Epoch: 1/500: Batch 2100/2830 [D loss: 0.851657, acc: 50.00%] [G loss: 1.015920]\n",
      "******* Epoch: 1/500: Batch 2150/2830 [D loss: 0.261978, acc: 90.00%] [G loss: 0.807281]\n",
      "******* Epoch: 1/500: Batch 2200/2830 [D loss: 1.000746, acc: 40.00%] [G loss: 5.551756]\n",
      "******* Epoch: 1/500: Batch 2250/2830 [D loss: 0.438803, acc: 80.00%] [G loss: 3.056764]\n",
      "******* Epoch: 1/500: Batch 2300/2830 [D loss: 0.457400, acc: 80.00%] [G loss: 1.394754]\n",
      "******* Epoch: 1/500: Batch 2350/2830 [D loss: 0.563232, acc: 60.00%] [G loss: 1.117755]\n",
      "******* Epoch: 1/500: Batch 2400/2830 [D loss: 0.822321, acc: 60.00%] [G loss: 5.189626]\n",
      "******* Epoch: 1/500: Batch 2450/2830 [D loss: 0.214484, acc: 90.00%] [G loss: 0.205632]\n",
      "******* Epoch: 1/500: Batch 2500/2830 [D loss: 0.090758, acc: 100.00%] [G loss: 0.379424]\n",
      "******* Epoch: 1/500: Batch 2550/2830 [D loss: 0.150121, acc: 90.00%] [G loss: 4.071208]\n",
      "******* Epoch: 1/500: Batch 2600/2830 [D loss: 0.312275, acc: 80.00%] [G loss: 3.315410]\n",
      "******* Epoch: 1/500: Batch 2650/2830 [D loss: 0.022870, acc: 100.00%] [G loss: 1.381990]\n",
      "******* Epoch: 1/500: Batch 2700/2830 [D loss: 0.000732, acc: 100.00%] [G loss: 7.193559]\n",
      "******* Epoch: 1/500: Batch 2750/2830 [D loss: 0.016619, acc: 100.00%] [G loss: 6.591939]\n",
      "******* Epoch: 1/500: Batch 2800/2830 [D loss: 0.171145, acc: 100.00%] [G loss: 17.893476]\n",
      "Saving weights: F:\\machine_learning\\my_models\\AnimeHorrorGan_generator.h5\n",
      "Generating 8 test images.\n",
      "******* Epoch: 2/500: Batch 0/2830 [D loss: 0.733427, acc: 70.00%] [G loss: 1.357774]\n",
      "******* Epoch: 2/500: Batch 50/2830 [D loss: 0.093965, acc: 100.00%] [G loss: 2.461588]\n",
      "******* Epoch: 2/500: Batch 100/2830 [D loss: 0.018259, acc: 100.00%] [G loss: 4.088449]\n",
      "******* Epoch: 2/500: Batch 150/2830 [D loss: 0.102488, acc: 100.00%] [G loss: 15.844098]\n",
      "******* Epoch: 2/500: Batch 200/2830 [D loss: 0.000000, acc: 100.00%] [G loss: 14.393929]\n",
      "******* Epoch: 2/500: Batch 250/2830 [D loss: 0.001779, acc: 100.00%] [G loss: 5.766772]\n",
      "******* Epoch: 2/500: Batch 300/2830 [D loss: 0.005950, acc: 100.00%] [G loss: 4.319845]\n",
      "******* Epoch: 2/500: Batch 350/2830 [D loss: 0.028426, acc: 100.00%] [G loss: 4.254750]\n",
      "******* Epoch: 2/500: Batch 400/2830 [D loss: 0.008478, acc: 100.00%] [G loss: 4.801723]\n",
      "******* Epoch: 2/500: Batch 450/2830 [D loss: 0.189903, acc: 100.00%] [G loss: 2.297537]\n",
      "******* Epoch: 2/500: Batch 500/2830 [D loss: 0.267163, acc: 90.00%] [G loss: 3.619740]\n",
      "******* Epoch: 2/500: Batch 550/2830 [D loss: 0.809518, acc: 50.00%] [G loss: 0.006306]\n",
      "******* Epoch: 2/500: Batch 600/2830 [D loss: 0.558861, acc: 90.00%] [G loss: 1.537026]\n",
      "******* Epoch: 2/500: Batch 650/2830 [D loss: 0.327945, acc: 100.00%] [G loss: 2.776052]\n",
      "******* Epoch: 2/500: Batch 700/2830 [D loss: 0.734550, acc: 50.00%] [G loss: 1.269523]\n",
      "******* Epoch: 2/500: Batch 750/2830 [D loss: 0.535679, acc: 80.00%] [G loss: 0.442692]\n",
      "******* Epoch: 2/500: Batch 800/2830 [D loss: 0.304285, acc: 100.00%] [G loss: 1.053673]\n",
      "******* Epoch: 2/500: Batch 850/2830 [D loss: 0.409138, acc: 80.00%] [G loss: 0.908838]\n",
      "******* Epoch: 2/500: Batch 900/2830 [D loss: 1.432247, acc: 40.00%] [G loss: 1.253351]\n",
      "******* Epoch: 2/500: Batch 950/2830 [D loss: 0.159809, acc: 90.00%] [G loss: 0.069335]\n",
      "******* Epoch: 2/500: Batch 1000/2830 [D loss: 1.616287, acc: 60.00%] [G loss: 1.500579]\n",
      "******* Epoch: 2/500: Batch 1050/2830 [D loss: 0.645742, acc: 60.00%] [G loss: 0.852472]\n",
      "******* Epoch: 2/500: Batch 1100/2830 [D loss: 0.099929, acc: 100.00%] [G loss: 1.816034]\n",
      "******* Epoch: 2/500: Batch 1150/2830 [D loss: 0.160417, acc: 100.00%] [G loss: 0.924056]\n",
      "******* Epoch: 2/500: Batch 1200/2830 [D loss: 0.642199, acc: 80.00%] [G loss: 0.794928]\n",
      "******* Epoch: 2/500: Batch 1250/2830 [D loss: 0.520854, acc: 60.00%] [G loss: 0.287079]\n",
      "******* Epoch: 2/500: Batch 1300/2830 [D loss: 1.113736, acc: 50.00%] [G loss: 1.807309]\n",
      "******* Epoch: 2/500: Batch 1350/2830 [D loss: 0.010872, acc: 100.00%] [G loss: 5.842877]\n",
      "******* Epoch: 2/500: Batch 1400/2830 [D loss: 1.450379, acc: 50.00%] [G loss: 16.896317]\n",
      "******* Epoch: 2/500: Batch 1450/2830 [D loss: 3.365624, acc: 50.00%] [G loss: 22.634533]\n",
      "******* Epoch: 2/500: Batch 1500/2830 [D loss: 0.077618, acc: 100.00%] [G loss: 4.466004]\n",
      "******* Epoch: 2/500: Batch 1550/2830 [D loss: 3.964766, acc: 0.00%] [G loss: 6.067205]\n",
      "******* Epoch: 2/500: Batch 1600/2830 [D loss: 0.183537, acc: 90.00%] [G loss: 6.446643]\n",
      "******* Epoch: 2/500: Batch 1650/2830 [D loss: 0.055599, acc: 100.00%] [G loss: 2.435840]\n",
      "******* Epoch: 2/500: Batch 1700/2830 [D loss: 0.045550, acc: 100.00%] [G loss: 0.629814]\n",
      "******* Epoch: 2/500: Batch 1750/2830 [D loss: 0.367129, acc: 80.00%] [G loss: 5.159204]\n",
      "******* Epoch: 2/500: Batch 1800/2830 [D loss: 1.049865, acc: 50.00%] [G loss: 0.278406]\n",
      "******* Epoch: 2/500: Batch 1850/2830 [D loss: 0.098896, acc: 90.00%] [G loss: 0.495624]\n",
      "******* Epoch: 2/500: Batch 1900/2830 [D loss: 0.495087, acc: 80.00%] [G loss: 1.400620]\n",
      "******* Epoch: 2/500: Batch 1950/2830 [D loss: 0.001416, acc: 100.00%] [G loss: 6.340041]\n",
      "******* Epoch: 2/500: Batch 2000/2830 [D loss: 0.683651, acc: 70.00%] [G loss: 1.047334]\n",
      "******* Epoch: 2/500: Batch 2050/2830 [D loss: 0.479904, acc: 80.00%] [G loss: 2.941295]\n",
      "******* Epoch: 2/500: Batch 2100/2830 [D loss: 0.013464, acc: 100.00%] [G loss: 0.131917]\n",
      "******* Epoch: 2/500: Batch 2150/2830 [D loss: 0.218611, acc: 90.00%] [G loss: 0.463784]\n",
      "******* Epoch: 2/500: Batch 2200/2830 [D loss: 0.036761, acc: 100.00%] [G loss: 3.303104]\n",
      "******* Epoch: 2/500: Batch 2250/2830 [D loss: 0.367509, acc: 90.00%] [G loss: 0.508237]\n",
      "******* Epoch: 2/500: Batch 2300/2830 [D loss: 0.459406, acc: 90.00%] [G loss: 2.566557]\n",
      "******* Epoch: 2/500: Batch 2350/2830 [D loss: 0.449556, acc: 90.00%] [G loss: 1.237435]\n",
      "******* Epoch: 2/500: Batch 2400/2830 [D loss: 0.060798, acc: 100.00%] [G loss: 0.632344]\n",
      "******* Epoch: 2/500: Batch 2450/2830 [D loss: 0.281621, acc: 100.00%] [G loss: 0.472189]\n",
      "******* Epoch: 2/500: Batch 2500/2830 [D loss: 1.169205, acc: 30.00%] [G loss: 1.032310]\n",
      "******* Epoch: 2/500: Batch 2550/2830 [D loss: 0.010119, acc: 100.00%] [G loss: 1.715802]\n",
      "******* Epoch: 2/500: Batch 2600/2830 [D loss: 0.076189, acc: 100.00%] [G loss: 2.909286]\n",
      "******* Epoch: 2/500: Batch 2650/2830 [D loss: 1.076823, acc: 50.00%] [G loss: 0.350950]\n",
      "******* Epoch: 2/500: Batch 2700/2830 [D loss: 0.017563, acc: 100.00%] [G loss: 3.910022]\n",
      "******* Epoch: 2/500: Batch 2750/2830 [D loss: 0.084870, acc: 90.00%] [G loss: 6.516135]\n",
      "******* Epoch: 2/500: Batch 2800/2830 [D loss: 0.123103, acc: 100.00%] [G loss: 0.098374]\n",
      "Saving weights: F:\\machine_learning\\my_models\\AnimeHorrorGan_generator.h5\n",
      "Generating 8 test images.\n",
      "******* Epoch: 3/500: Batch 0/2830 [D loss: 1.442529, acc: 50.00%] [G loss: 0.124823]\n",
      "******* Epoch: 3/500: Batch 50/2830 [D loss: 0.084775, acc: 100.00%] [G loss: 5.398648]\n",
      "******* Epoch: 3/500: Batch 100/2830 [D loss: 0.000002, acc: 100.00%] [G loss: 67.257812]\n",
      "******* Epoch: 3/500: Batch 150/2830 [D loss: 0.000000, acc: 100.00%] [G loss: 36.527802]\n",
      "******* Epoch: 3/500: Batch 200/2830 [D loss: 0.000008, acc: 100.00%] [G loss: 17.918707]\n",
      "******* Epoch: 3/500: Batch 250/2830 [D loss: 0.001246, acc: 100.00%] [G loss: 5.955122]\n",
      "******* Epoch: 3/500: Batch 300/2830 [D loss: 0.048604, acc: 100.00%] [G loss: 1.882594]\n",
      "******* Epoch: 3/500: Batch 350/2830 [D loss: 0.832906, acc: 80.00%] [G loss: 4.444207]\n",
      "******* Epoch: 3/500: Batch 400/2830 [D loss: 4.376548, acc: 10.00%] [G loss: 4.735901]\n",
      "******* Epoch: 3/500: Batch 450/2830 [D loss: 1.472104, acc: 20.00%] [G loss: 1.064351]\n",
      "******* Epoch: 3/500: Batch 500/2830 [D loss: 0.113269, acc: 100.00%] [G loss: 0.694390]\n",
      "******* Epoch: 3/500: Batch 550/2830 [D loss: 0.065857, acc: 100.00%] [G loss: 1.294454]\n",
      "******* Epoch: 3/500: Batch 600/2830 [D loss: 0.058579, acc: 100.00%] [G loss: 3.538890]\n",
      "******* Epoch: 3/500: Batch 650/2830 [D loss: 0.137458, acc: 100.00%] [G loss: 3.655647]\n",
      "******* Epoch: 3/500: Batch 700/2830 [D loss: 0.041359, acc: 100.00%] [G loss: 0.789322]\n",
      "******* Epoch: 3/500: Batch 750/2830 [D loss: 0.025721, acc: 100.00%] [G loss: 0.881128]\n",
      "******* Epoch: 3/500: Batch 800/2830 [D loss: 0.016272, acc: 100.00%] [G loss: 5.798628]\n",
      "******* Epoch: 3/500: Batch 850/2830 [D loss: 0.368376, acc: 80.00%] [G loss: 2.161261]\n",
      "******* Epoch: 3/500: Batch 900/2830 [D loss: 0.134351, acc: 90.00%] [G loss: 0.329319]\n",
      "******* Epoch: 3/500: Batch 950/2830 [D loss: 1.105793, acc: 70.00%] [G loss: 1.334677]\n",
      "******* Epoch: 3/500: Batch 1000/2830 [D loss: 0.086895, acc: 100.00%] [G loss: 1.209523]\n",
      "******* Epoch: 3/500: Batch 1050/2830 [D loss: 0.030454, acc: 100.00%] [G loss: 1.232363]\n",
      "******* Epoch: 3/500: Batch 1100/2830 [D loss: 0.419816, acc: 80.00%] [G loss: 0.058643]\n",
      "******* Epoch: 3/500: Batch 1150/2830 [D loss: 0.037786, acc: 100.00%] [G loss: 1.890188]\n",
      "******* Epoch: 3/500: Batch 1200/2830 [D loss: 0.009077, acc: 100.00%] [G loss: 1.209972]\n",
      "******* Epoch: 3/500: Batch 1250/2830 [D loss: 0.292465, acc: 90.00%] [G loss: 0.951071]\n",
      "******* Epoch: 3/500: Batch 1300/2830 [D loss: 0.000060, acc: 100.00%] [G loss: 3.652671]\n",
      "******* Epoch: 3/500: Batch 1350/2830 [D loss: 0.001105, acc: 100.00%] [G loss: 0.429756]\n",
      "******* Epoch: 3/500: Batch 1400/2830 [D loss: 0.032518, acc: 100.00%] [G loss: 2.081334]\n",
      "******* Epoch: 3/500: Batch 1450/2830 [D loss: 1.553382, acc: 60.00%] [G loss: 11.596404]\n",
      "******* Epoch: 3/500: Batch 1500/2830 [D loss: 0.002897, acc: 100.00%] [G loss: 5.999801]\n",
      "******* Epoch: 3/500: Batch 1550/2830 [D loss: 0.039000, acc: 100.00%] [G loss: 0.412365]\n",
      "******* Epoch: 3/500: Batch 1600/2830 [D loss: 0.000093, acc: 100.00%] [G loss: 8.409668]\n",
      "******* Epoch: 3/500: Batch 1650/2830 [D loss: 0.002302, acc: 100.00%] [G loss: 7.298874]\n",
      "******* Epoch: 3/500: Batch 1700/2830 [D loss: 0.035020, acc: 100.00%] [G loss: 4.785168]\n",
      "******* Epoch: 3/500: Batch 1750/2830 [D loss: 0.016660, acc: 100.00%] [G loss: 3.400254]\n",
      "******* Epoch: 3/500: Batch 1800/2830 [D loss: 0.051513, acc: 100.00%] [G loss: 2.414766]\n",
      "******* Epoch: 3/500: Batch 1850/2830 [D loss: 1.123276, acc: 80.00%] [G loss: 6.829978]\n",
      "******* Epoch: 3/500: Batch 1900/2830 [D loss: 0.022880, acc: 100.00%] [G loss: 1.278118]\n",
      "******* Epoch: 3/500: Batch 1950/2830 [D loss: 0.008139, acc: 100.00%] [G loss: 5.883260]\n",
      "******* Epoch: 3/500: Batch 2000/2830 [D loss: 0.449069, acc: 90.00%] [G loss: 4.171786]\n",
      "******* Epoch: 3/500: Batch 2050/2830 [D loss: 0.082900, acc: 90.00%] [G loss: 2.655076]\n",
      "******* Epoch: 3/500: Batch 2100/2830 [D loss: 0.019980, acc: 100.00%] [G loss: 4.525241]\n",
      "******* Epoch: 3/500: Batch 2150/2830 [D loss: 0.001545, acc: 100.00%] [G loss: 4.818857]\n",
      "******* Epoch: 3/500: Batch 2200/2830 [D loss: 0.044690, acc: 100.00%] [G loss: 0.714484]\n",
      "******* Epoch: 3/500: Batch 2250/2830 [D loss: 0.040860, acc: 100.00%] [G loss: 4.152176]\n",
      "******* Epoch: 3/500: Batch 2300/2830 [D loss: 0.206358, acc: 90.00%] [G loss: 3.766712]\n",
      "******* Epoch: 3/500: Batch 2350/2830 [D loss: 0.078806, acc: 100.00%] [G loss: 3.078420]\n",
      "******* Epoch: 3/500: Batch 2400/2830 [D loss: 0.248345, acc: 90.00%] [G loss: 1.252029]\n",
      "******* Epoch: 3/500: Batch 2450/2830 [D loss: 0.088202, acc: 100.00%] [G loss: 1.564752]\n",
      "******* Epoch: 3/500: Batch 2500/2830 [D loss: 0.051653, acc: 100.00%] [G loss: 2.737745]\n",
      "******* Epoch: 3/500: Batch 2550/2830 [D loss: 0.010661, acc: 100.00%] [G loss: 0.123923]\n",
      "******* Epoch: 3/500: Batch 2600/2830 [D loss: 0.119095, acc: 100.00%] [G loss: 5.156230]\n",
      "******* Epoch: 3/500: Batch 2650/2830 [D loss: 0.013499, acc: 100.00%] [G loss: 10.793451]\n",
      "******* Epoch: 3/500: Batch 2700/2830 [D loss: 0.009325, acc: 100.00%] [G loss: 0.250412]\n",
      "******* Epoch: 3/500: Batch 2750/2830 [D loss: 1.036417, acc: 40.00%] [G loss: 6.093018]\n",
      "******* Epoch: 3/500: Batch 2800/2830 [D loss: 0.053087, acc: 100.00%] [G loss: 1.009939]\n",
      "Saving weights: F:\\machine_learning\\my_models\\AnimeHorrorGan_generator.h5\n",
      "Generating 8 test images.\n",
      "******* Epoch: 4/500: Batch 0/2830 [D loss: 0.336759, acc: 80.00%] [G loss: 12.333310]\n",
      "******* Epoch: 4/500: Batch 50/2830 [D loss: 0.010091, acc: 100.00%] [G loss: 0.295624]\n",
      "******* Epoch: 4/500: Batch 100/2830 [D loss: 0.021735, acc: 100.00%] [G loss: 3.383075]\n",
      "******* Epoch: 4/500: Batch 150/2830 [D loss: 0.000005, acc: 100.00%] [G loss: 0.000000]\n",
      "******* Epoch: 4/500: Batch 200/2830 [D loss: 0.000000, acc: 100.00%] [G loss: 0.000000]\n",
      "******* Epoch: 4/500: Batch 250/2830 [D loss: 0.000001, acc: 100.00%] [G loss: 0.000000]\n",
      "******* Epoch: 4/500: Batch 300/2830 [D loss: 0.000001, acc: 100.00%] [G loss: 0.000000]\n",
      "******* Epoch: 4/500: Batch 350/2830 [D loss: 0.000001, acc: 100.00%] [G loss: 0.000000]\n",
      "******* Epoch: 4/500: Batch 400/2830 [D loss: 0.000000, acc: 100.00%] [G loss: 0.000001]\n",
      "******* Epoch: 4/500: Batch 450/2830 [D loss: 0.000000, acc: 100.00%] [G loss: 0.000000]\n",
      "******* Epoch: 4/500: Batch 500/2830 [D loss: 0.000000, acc: 100.00%] [G loss: 0.000005]\n",
      "******* Epoch: 4/500: Batch 550/2830 [D loss: 0.000011, acc: 100.00%] [G loss: 0.000000]\n",
      "******* Epoch: 4/500: Batch 600/2830 [D loss: 0.000000, acc: 100.00%] [G loss: 0.000000]\n",
      "******* Epoch: 4/500: Batch 650/2830 [D loss: 0.000000, acc: 100.00%] [G loss: 0.000002]\n",
      "******* Epoch: 4/500: Batch 700/2830 [D loss: 0.000000, acc: 100.00%] [G loss: 0.000000]\n",
      "******* Epoch: 4/500: Batch 750/2830 [D loss: 0.000000, acc: 100.00%] [G loss: 0.000002]\n",
      "******* Epoch: 4/500: Batch 800/2830 [D loss: 0.000000, acc: 100.00%] [G loss: 0.000000]\n",
      "******* Epoch: 4/500: Batch 850/2830 [D loss: 0.000000, acc: 100.00%] [G loss: 0.000001]\n",
      "******* Epoch: 4/500: Batch 900/2830 [D loss: 0.000000, acc: 100.00%] [G loss: 0.000000]\n",
      "******* Epoch: 4/500: Batch 950/2830 [D loss: 0.000000, acc: 100.00%] [G loss: 0.000000]\n",
      "******* Epoch: 4/500: Batch 1000/2830 [D loss: 0.000000, acc: 100.00%] [G loss: 0.000000]\n",
      "******* Epoch: 4/500: Batch 1050/2830 [D loss: 0.000000, acc: 100.00%] [G loss: 0.000000]\n",
      "******* Epoch: 4/500: Batch 1100/2830 [D loss: 0.000000, acc: 100.00%] [G loss: 0.000000]\n",
      "******* Epoch: 4/500: Batch 1150/2830 [D loss: 0.000000, acc: 100.00%] [G loss: 0.000000]\n",
      "******* Epoch: 4/500: Batch 1200/2830 [D loss: 0.000000, acc: 100.00%] [G loss: 0.000000]\n",
      "******* Epoch: 4/500: Batch 1250/2830 [D loss: 0.000000, acc: 100.00%] [G loss: 0.000000]\n",
      "******* Epoch: 4/500: Batch 1300/2830 [D loss: 0.000000, acc: 100.00%] [G loss: 0.000000]\n",
      "******* Epoch: 4/500: Batch 1350/2830 [D loss: 0.000000, acc: 100.00%] [G loss: 0.000000]\n",
      "******* Epoch: 4/500: Batch 1400/2830 [D loss: 0.000000, acc: 100.00%] [G loss: 0.000000]\n",
      "******* Epoch: 4/500: Batch 1450/2830 [D loss: 0.000000, acc: 100.00%] [G loss: 0.000000]\n",
      "******* Epoch: 4/500: Batch 1500/2830 [D loss: 0.000000, acc: 100.00%] [G loss: 0.000000]\n",
      "******* Epoch: 4/500: Batch 1550/2830 [D loss: 0.000000, acc: 100.00%] [G loss: 0.000000]\n",
      "******* Epoch: 4/500: Batch 1600/2830 [D loss: 0.000000, acc: 100.00%] [G loss: 0.000000]\n",
      "******* Epoch: 4/500: Batch 1650/2830 [D loss: 0.000001, acc: 100.00%] [G loss: 0.000000]\n",
      "******* Epoch: 4/500: Batch 1700/2830 [D loss: 0.000000, acc: 100.00%] [G loss: 0.000000]\n",
      "******* Epoch: 4/500: Batch 1750/2830 [D loss: 0.000000, acc: 100.00%] [G loss: 0.000000]\n",
      "******* Epoch: 4/500: Batch 1800/2830 [D loss: 0.000000, acc: 100.00%] [G loss: 0.000000]\n",
      "******* Epoch: 4/500: Batch 1850/2830 [D loss: 0.000000, acc: 100.00%] [G loss: 0.000000]\n",
      "******* Epoch: 4/500: Batch 1900/2830 [D loss: 0.000000, acc: 100.00%] [G loss: 0.000000]\n",
      "******* Epoch: 4/500: Batch 1950/2830 [D loss: 0.000000, acc: 100.00%] [G loss: 0.000000]\n",
      "******* Epoch: 4/500: Batch 2000/2830 [D loss: 0.000000, acc: 100.00%] [G loss: 0.000000]\n",
      "******* Epoch: 4/500: Batch 2050/2830 [D loss: 0.000000, acc: 100.00%] [G loss: 0.000000]\n",
      "******* Epoch: 4/500: Batch 2100/2830 [D loss: 0.000000, acc: 100.00%] [G loss: 0.000000]\n",
      "******* Epoch: 4/500: Batch 2150/2830 [D loss: 0.000000, acc: 100.00%] [G loss: 0.000000]\n",
      "******* Epoch: 4/500: Batch 2200/2830 [D loss: 0.000000, acc: 100.00%] [G loss: 0.000000]\n",
      "******* Epoch: 4/500: Batch 2250/2830 [D loss: 0.000000, acc: 100.00%] [G loss: 0.000000]\n",
      "******* Epoch: 4/500: Batch 2300/2830 [D loss: 0.000000, acc: 100.00%] [G loss: 0.000000]\n",
      "******* Epoch: 4/500: Batch 2350/2830 [D loss: 0.000000, acc: 100.00%] [G loss: 0.000000]\n",
      "******* Epoch: 4/500: Batch 2400/2830 [D loss: 0.000000, acc: 100.00%] [G loss: 0.000000]\n",
      "******* Epoch: 4/500: Batch 2450/2830 [D loss: 0.000000, acc: 100.00%] [G loss: 0.000000]\n",
      "******* Epoch: 4/500: Batch 2500/2830 [D loss: 0.000000, acc: 100.00%] [G loss: 0.000000]\n",
      "******* Epoch: 4/500: Batch 2550/2830 [D loss: 0.000000, acc: 100.00%] [G loss: 0.000000]\n",
      "******* Epoch: 4/500: Batch 2600/2830 [D loss: 0.000000, acc: 100.00%] [G loss: 0.000000]\n",
      "******* Epoch: 4/500: Batch 2650/2830 [D loss: 0.000000, acc: 100.00%] [G loss: 0.000000]\n",
      "******* Epoch: 4/500: Batch 2700/2830 [D loss: 0.000000, acc: 100.00%] [G loss: 0.000000]\n",
      "******* Epoch: 4/500: Batch 2750/2830 [D loss: 0.000000, acc: 100.00%] [G loss: 0.000000]\n",
      "******* Epoch: 4/500: Batch 2800/2830 [D loss: 0.000000, acc: 100.00%] [G loss: 0.000000]\n",
      "Saving weights: F:\\machine_learning\\my_models\\AnimeHorrorGan_generator.h5\n",
      "Generating 8 test images.\n",
      "******* Epoch: 5/500: Batch 0/2830 [D loss: 0.000000, acc: 100.00%] [G loss: 0.000000]\n",
      "******* Epoch: 5/500: Batch 50/2830 [D loss: 0.000000, acc: 100.00%] [G loss: 0.000000]\n",
      "******* Epoch: 5/500: Batch 100/2830 [D loss: 0.000000, acc: 100.00%] [G loss: 0.000000]\n",
      "******* Epoch: 5/500: Batch 150/2830 [D loss: 0.000000, acc: 100.00%] [G loss: 0.000000]\n",
      "******* Epoch: 5/500: Batch 200/2830 [D loss: 0.000000, acc: 100.00%] [G loss: 0.000000]\n",
      "******* Epoch: 5/500: Batch 250/2830 [D loss: 0.000000, acc: 100.00%] [G loss: 0.000000]\n",
      "******* Epoch: 5/500: Batch 300/2830 [D loss: 0.000000, acc: 100.00%] [G loss: 0.000000]\n",
      "******* Epoch: 5/500: Batch 350/2830 [D loss: 0.000000, acc: 100.00%] [G loss: 0.000000]\n",
      "******* Epoch: 5/500: Batch 400/2830 [D loss: 0.000000, acc: 100.00%] [G loss: 0.000000]\n",
      "******* Epoch: 5/500: Batch 450/2830 [D loss: 0.000000, acc: 100.00%] [G loss: 0.000000]\n",
      "******* Epoch: 5/500: Batch 500/2830 [D loss: 0.000000, acc: 100.00%] [G loss: 0.000000]\n",
      "******* Epoch: 5/500: Batch 550/2830 [D loss: 0.000000, acc: 100.00%] [G loss: 0.000000]\n",
      "******* Epoch: 5/500: Batch 600/2830 [D loss: 0.000000, acc: 100.00%] [G loss: 0.000000]\n",
      "******* Epoch: 5/500: Batch 650/2830 [D loss: 0.000000, acc: 100.00%] [G loss: 0.000000]\n",
      "******* Epoch: 5/500: Batch 700/2830 [D loss: 0.000000, acc: 100.00%] [G loss: 0.000000]\n",
      "******* Epoch: 5/500: Batch 750/2830 [D loss: 0.000000, acc: 100.00%] [G loss: 0.000000]\n",
      "******* Epoch: 5/500: Batch 800/2830 [D loss: 0.000000, acc: 100.00%] [G loss: 0.000000]\n",
      "******* Epoch: 5/500: Batch 850/2830 [D loss: 0.000000, acc: 100.00%] [G loss: 0.000000]\n",
      "******* Epoch: 5/500: Batch 900/2830 [D loss: 0.000000, acc: 100.00%] [G loss: 0.000000]\n",
      "******* Epoch: 5/500: Batch 950/2830 [D loss: 0.000000, acc: 100.00%] [G loss: 0.000000]\n",
      "******* Epoch: 5/500: Batch 1000/2830 [D loss: 0.000000, acc: 100.00%] [G loss: 0.000000]\n",
      "******* Epoch: 5/500: Batch 1050/2830 [D loss: 0.000000, acc: 100.00%] [G loss: 0.000000]\n",
      "******* Epoch: 5/500: Batch 1100/2830 [D loss: 0.000000, acc: 100.00%] [G loss: 0.000000]\n",
      "******* Epoch: 5/500: Batch 1150/2830 [D loss: 0.000000, acc: 100.00%] [G loss: 0.000000]\n",
      "******* Epoch: 5/500: Batch 1200/2830 [D loss: 0.000000, acc: 100.00%] [G loss: 0.000000]\n",
      "******* Epoch: 5/500: Batch 1250/2830 [D loss: 0.000000, acc: 100.00%] [G loss: 0.000000]\n",
      "******* Epoch: 5/500: Batch 1300/2830 [D loss: 0.000000, acc: 100.00%] [G loss: 0.000000]\n",
      "******* Epoch: 5/500: Batch 1350/2830 [D loss: 0.000000, acc: 100.00%] [G loss: 0.000000]\n",
      "******* Epoch: 5/500: Batch 1400/2830 [D loss: 0.000000, acc: 100.00%] [G loss: 0.000000]\n",
      "******* Epoch: 5/500: Batch 1450/2830 [D loss: 0.000000, acc: 100.00%] [G loss: 0.000000]\n",
      "******* Epoch: 5/500: Batch 1500/2830 [D loss: 0.000001, acc: 100.00%] [G loss: 0.000000]\n",
      "******* Epoch: 5/500: Batch 1550/2830 [D loss: 0.000000, acc: 100.00%] [G loss: 0.000000]\n",
      "******* Epoch: 5/500: Batch 1600/2830 [D loss: 0.000000, acc: 100.00%] [G loss: 0.000000]\n",
      "******* Epoch: 5/500: Batch 1650/2830 [D loss: 0.000000, acc: 100.00%] [G loss: 0.000000]\n",
      "******* Epoch: 5/500: Batch 1700/2830 [D loss: 0.000000, acc: 100.00%] [G loss: 0.000000]\n",
      "******* Epoch: 5/500: Batch 1750/2830 [D loss: 0.000000, acc: 100.00%] [G loss: 0.000000]\n",
      "******* Epoch: 5/500: Batch 1800/2830 [D loss: 0.000000, acc: 100.00%] [G loss: 0.000000]\n",
      "******* Epoch: 5/500: Batch 1850/2830 [D loss: 0.000000, acc: 100.00%] [G loss: 0.000000]\n",
      "******* Epoch: 5/500: Batch 1900/2830 [D loss: 0.000000, acc: 100.00%] [G loss: 0.000000]\n",
      "******* Epoch: 5/500: Batch 1950/2830 [D loss: 0.000000, acc: 100.00%] [G loss: 0.000000]\n",
      "******* Epoch: 5/500: Batch 2000/2830 [D loss: 0.000000, acc: 100.00%] [G loss: 0.000000]\n",
      "******* Epoch: 5/500: Batch 2050/2830 [D loss: 0.000000, acc: 100.00%] [G loss: 0.000000]\n",
      "******* Epoch: 5/500: Batch 2100/2830 [D loss: 0.000000, acc: 100.00%] [G loss: 0.000000]\n"
     ]
    }
   ],
   "source": [
    "train(500, batch_size=Config.batch_size)"
   ]
  },
  {
   "cell_type": "code",
   "execution_count": null,
   "metadata": {},
   "outputs": [],
   "source": [
    "# select cel. Run all above :-p "
   ]
  },
  {
   "cell_type": "markdown",
   "metadata": {},
   "source": [
    "# Scratchpad"
   ]
  },
  {
   "cell_type": "code",
   "execution_count": null,
   "metadata": {},
   "outputs": [],
   "source": [
    "imgs = load_batch(Config.test_images, num_to_gen)\n",
    "imgs = np.expand_dims(img, axis=0)\n",
    "gen = generator(imgs)\n",
    "\n",
    "#conf prp1158022770"
   ]
  },
  {
   "cell_type": "code",
   "execution_count": null,
   "metadata": {},
   "outputs": [],
   "source": [
    "gen.shape\n",
    "gen = (gen + 1) / 2.0"
   ]
  },
  {
   "cell_type": "code",
   "execution_count": null,
   "metadata": {},
   "outputs": [],
   "source": [
    "noise = make_noise(10)\n",
    "plt.imshow(gen[0])\n",
    "#noise[0].max()"
   ]
  },
  {
   "cell_type": "code",
   "execution_count": null,
   "metadata": {
    "id": "kT7_Wk-TS_n2"
   },
   "outputs": [],
   "source": [
    "generator, discriminator = GAN.layers\n",
    "\n",
    "# too lazy to make it a function for now. Not sure if I can return a model or how it would work. Google time. \n",
    "if exists(f\"{model_save_path}/{gan_name}_generator.h5\"):\n",
    "    print(\"Loading generator weights.\")\n",
    "    generator.load_weights(f\"{model_save_path}/{gan_name}_generator.h5\")\n",
    "if exists(f\"{model_save_path}/{gan_name}_generator.h5\"):\n",
    "    print(\"Loading discriminator weights.\")\n",
    "    discriminator.load_weights(f\"{model_save_path}/{gan_name}_discriminator.h5\")"
   ]
  },
  {
   "cell_type": "code",
   "execution_count": null,
   "metadata": {},
   "outputs": [],
   "source": [
    "testimages = load_batch(imageFiles, 10)\n",
    "testimages.shape"
   ]
  },
  {
   "cell_type": "code",
   "execution_count": null,
   "metadata": {},
   "outputs": [],
   "source": [
    "gen = generator(testimages)\n",
    "gen = (gen + 1) / 2.0"
   ]
  },
  {
   "cell_type": "code",
   "execution_count": null,
   "metadata": {},
   "outputs": [],
   "source": [
    "gen.shape"
   ]
  },
  {
   "cell_type": "code",
   "execution_count": null,
   "metadata": {
    "tags": []
   },
   "outputs": [],
   "source": [
    "plt.imshow(random.choice(gen))"
   ]
  },
  {
   "cell_type": "code",
   "execution_count": null,
   "metadata": {},
   "outputs": [],
   "source": [
    "gen_imgs = generator.predict(noise)\n",
    "#gen_imgs = (gen_imgs + 1) / 2.0\n",
    "#gen_imgs = (gen_imgs * 255.).astype(int)\n",
    "#gen_imgs = np.clip(gen_imgs, 0, 255)\n",
    "#print(f\"{gen_imgs.shape}\\n{gen_imgs}\")\n",
    "#gen_imgs[0]\n",
    "save_image(\"generated.png\", gen_imgs[2])\n",
    "\n",
    "plt.imshow(gen_imgs[2])"
   ]
  },
  {
   "cell_type": "code",
   "execution_count": null,
   "metadata": {
    "id": "M7ni_ubQ5CAg"
   },
   "outputs": [],
   "source": [
    "#gen_imgs.shape"
   ]
  },
  {
   "cell_type": "code",
   "execution_count": null,
   "metadata": {
    "id": "GbWAZ1v_TdJd"
   },
   "outputs": [],
   "source": [
    "plt.imshow(gen_imgs[6])"
   ]
  },
  {
   "cell_type": "code",
   "execution_count": null,
   "metadata": {
    "id": "P8YtpQpkRvRI"
   },
   "outputs": [],
   "source": [
    "print(gen_imgs.min(), gen_imgs.max())"
   ]
  },
  {
   "cell_type": "markdown",
   "metadata": {
    "id": "po-jSQoN1Azl"
   },
   "source": [
    "### **8) Making GIF**"
   ]
  },
  {
   "cell_type": "code",
   "execution_count": null,
   "metadata": {
    "id": "XPShgQpg1EMy"
   },
   "outputs": [],
   "source": [
    "# Display a single image using the epoch number\n",
    "# def display_image(epoch_no):\n",
    "#   return PIL.Image.open('generated_images/%.8f.png'.format(epoch_no))\n",
    "\n",
    "anim_file = 'dcgan.gif'\n",
    "\n",
    "with imageio.get_writer(anim_file, mode='I') as writer:\n",
    "  filenames = glob.glob('generated_images/*.png')\n",
    "  filenames = sorted(filenames)\n",
    "  for filename in filenames:\n",
    "    image = imageio.imread(filename)\n",
    "    writer.append_data(image)\n",
    "  image = imageio.imread(filename)\n",
    "  writer.append_data(image)"
   ]
  },
  {
   "cell_type": "code",
   "execution_count": null,
   "metadata": {
    "id": "ogrmQ73ZR_Wi"
   },
   "outputs": [],
   "source": []
  }
 ],
 "metadata": {
  "accelerator": "GPU",
  "colab": {
   "collapsed_sections": [],
   "provenance": []
  },
  "gpuClass": "standard",
  "kernelspec": {
   "display_name": "Python 3 (ipykernel)",
   "language": "python",
   "name": "python3"
  },
  "language_info": {
   "codemirror_mode": {
    "name": "ipython",
    "version": 3
   },
   "file_extension": ".py",
   "mimetype": "text/x-python",
   "name": "python",
   "nbconvert_exporter": "python",
   "pygments_lexer": "ipython3",
   "version": "3.9.13"
  }
 },
 "nbformat": 4,
 "nbformat_minor": 4
}
